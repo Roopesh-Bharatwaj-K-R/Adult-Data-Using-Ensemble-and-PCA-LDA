{
 "cells": [
  {
   "cell_type": "markdown",
   "metadata": {},
   "source": [
    "# Question 1 : "
   ]
  },
  {
   "cell_type": "markdown",
   "metadata": {},
   "source": [
    "#  Use a real-world dataset (i.e. relational, text, image, video, voice files), prepare the dataset for modelling, \n",
    "#  consider one categorical variable in the dataset, and apply the classification task.   \n",
    "\n",
    " \n"
   ]
  },
  {
   "cell_type": "markdown",
   "metadata": {},
   "source": [
    "# Dataset :  UCI ADULT INCOME"
   ]
  },
  {
   "cell_type": "code",
   "execution_count": 2,
   "metadata": {},
   "outputs": [],
   "source": [
    "# Conversion of original data as follows:\n",
    "# 1. Discretized agrossincome into two ranges with threshold 50,000.\n",
    "# 2. Convert U.S. to US to avoid periods.\n",
    "# 3. Convert Unknown to \"?\"\n",
    "# 4. Run MLC++ GenCVFiles to generate data,test."
   ]
  },
  {
   "cell_type": "markdown",
   "metadata": {},
   "source": [
    "# Dataset Description"
   ]
  },
  {
   "cell_type": "code",
   "execution_count": 3,
   "metadata": {},
   "outputs": [],
   "source": [
    "# Income: >50K, <=50K. \n",
    "# age: continuous.\n",
    "# workclass: Private, Self-emp-not-inc, Self-emp-inc, Federal-gov, Local-gov, State-gov, Without-pay, Never-worked.\n",
    "# fnlwgt: continuous.\n",
    "# education: Bachelors, Some-college, 11th, HS-grad, Prof-school, Assoc-acdm, Assoc-voc, 9th, 7th-8th, 12th, Masters, \n",
    "#             1st-4th, 10th, Doctorate, 5th-6th, Preschool.\n",
    "# education-num: continuous.\n",
    "# marital-status: Married-civ-spouse, Divorced, Never-married, Separated, Widowed, Married-spouse-absent, Married-AF-spouse.\n",
    "# occupation: Tech-support, Craft-repair, Other-service, Sales, Exec-managerial, Prof-specialty, Handlers-cleaners, \n",
    "#             Machine-op-inspct, Adm-clerical, Farming-fishing, Transport-moving, Priv-house-serv, Protective-serv, Armed-Forces.\n",
    " # relationship: Wife, Own-child, Husband, Not-in-family, Other-relative, Unmarried.\n",
    "# race: White, Asian-Pac-Islander, Amer-Indian-Eskimo, Other, Black.\n",
    "# sex: Female, Male.\n",
    "# capital-gain: continuous.\n",
    "# capital-loss: continuous\n",
    "# hours-per-week: continuous.\n",
    "# native-country: United-States, Cambodia, England, Puerto-Rico, Canada, Germany, Outlying-US(Guam-USVI-etc), India, \n",
    "#                 Japan, Greece, South, China, Cuba, Iran, Honduras, Philippines, Italy, Poland, Jamaica, Vietnam, Mexico, Portugal, Ireland, \n",
    "#                 France, Dominican-Republic, Laos, Ecuador, Taiwan, Haiti, Columbia, Hungary, Guatemala, Nicaragua, Scotland, Thailand, \n",
    "#                 Yugoslavia, El-Salvador, Trinadad&Tobago, Peru, Hong, Holand-Netherlands.\n"
   ]
  },
  {
   "cell_type": "code",
   "execution_count": 4,
   "metadata": {},
   "outputs": [],
   "source": [
    "import pandas as pd\n",
    "import numpy as np\n",
    "import matplotlib.pyplot as plt\n",
    "import seaborn as sns\n",
    "\n",
    "# Note:\n",
    "\n",
    "# Dataset is divided into 2 parts Training and Testing in later stage we will combine the dataset and do task as per the given\n",
    "# specifications."
   ]
  },
  {
   "cell_type": "code",
   "execution_count": 5,
   "metadata": {},
   "outputs": [],
   "source": [
    "training = pd.read_csv(\"C:/Users/user/Desktop/tina/adult-training.csv\") # Please Load adult-training.csv\n",
    "testing = pd.read_csv(\"C:/Users/user/Desktop/tina/adult-test.csv\")# Please Load adult-test.csv "
   ]
  },
  {
   "cell_type": "code",
   "execution_count": 6,
   "metadata": {},
   "outputs": [
    {
     "data": {
      "text/html": [
       "<div>\n",
       "<style scoped>\n",
       "    .dataframe tbody tr th:only-of-type {\n",
       "        vertical-align: middle;\n",
       "    }\n",
       "\n",
       "    .dataframe tbody tr th {\n",
       "        vertical-align: top;\n",
       "    }\n",
       "\n",
       "    .dataframe thead th {\n",
       "        text-align: right;\n",
       "    }\n",
       "</style>\n",
       "<table border=\"1\" class=\"dataframe\">\n",
       "  <thead>\n",
       "    <tr style=\"text-align: right;\">\n",
       "      <th></th>\n",
       "      <th>25</th>\n",
       "      <th>Private</th>\n",
       "      <th>226802</th>\n",
       "      <th>11th</th>\n",
       "      <th>7</th>\n",
       "      <th>Never-married</th>\n",
       "      <th>Machine-op-inspct</th>\n",
       "      <th>Own-child</th>\n",
       "      <th>Black</th>\n",
       "      <th>Male</th>\n",
       "      <th>0</th>\n",
       "      <th>0.1</th>\n",
       "      <th>40</th>\n",
       "      <th>United-States</th>\n",
       "      <th>&lt;=50K.</th>\n",
       "    </tr>\n",
       "  </thead>\n",
       "  <tbody>\n",
       "    <tr>\n",
       "      <th>0</th>\n",
       "      <td>38</td>\n",
       "      <td>Private</td>\n",
       "      <td>89814</td>\n",
       "      <td>HS-grad</td>\n",
       "      <td>9</td>\n",
       "      <td>Married-civ-spouse</td>\n",
       "      <td>Farming-fishing</td>\n",
       "      <td>Husband</td>\n",
       "      <td>White</td>\n",
       "      <td>Male</td>\n",
       "      <td>0</td>\n",
       "      <td>0</td>\n",
       "      <td>50</td>\n",
       "      <td>United-States</td>\n",
       "      <td>&lt;=50K.</td>\n",
       "    </tr>\n",
       "    <tr>\n",
       "      <th>1</th>\n",
       "      <td>28</td>\n",
       "      <td>Local-gov</td>\n",
       "      <td>336951</td>\n",
       "      <td>Assoc-acdm</td>\n",
       "      <td>12</td>\n",
       "      <td>Married-civ-spouse</td>\n",
       "      <td>Protective-serv</td>\n",
       "      <td>Husband</td>\n",
       "      <td>White</td>\n",
       "      <td>Male</td>\n",
       "      <td>0</td>\n",
       "      <td>0</td>\n",
       "      <td>40</td>\n",
       "      <td>United-States</td>\n",
       "      <td>&gt;50K.</td>\n",
       "    </tr>\n",
       "    <tr>\n",
       "      <th>2</th>\n",
       "      <td>44</td>\n",
       "      <td>Private</td>\n",
       "      <td>160323</td>\n",
       "      <td>Some-college</td>\n",
       "      <td>10</td>\n",
       "      <td>Married-civ-spouse</td>\n",
       "      <td>Machine-op-inspct</td>\n",
       "      <td>Husband</td>\n",
       "      <td>Black</td>\n",
       "      <td>Male</td>\n",
       "      <td>7688</td>\n",
       "      <td>0</td>\n",
       "      <td>40</td>\n",
       "      <td>United-States</td>\n",
       "      <td>&gt;50K.</td>\n",
       "    </tr>\n",
       "    <tr>\n",
       "      <th>3</th>\n",
       "      <td>18</td>\n",
       "      <td>?</td>\n",
       "      <td>103497</td>\n",
       "      <td>Some-college</td>\n",
       "      <td>10</td>\n",
       "      <td>Never-married</td>\n",
       "      <td>?</td>\n",
       "      <td>Own-child</td>\n",
       "      <td>White</td>\n",
       "      <td>Female</td>\n",
       "      <td>0</td>\n",
       "      <td>0</td>\n",
       "      <td>30</td>\n",
       "      <td>United-States</td>\n",
       "      <td>&lt;=50K.</td>\n",
       "    </tr>\n",
       "    <tr>\n",
       "      <th>4</th>\n",
       "      <td>34</td>\n",
       "      <td>Private</td>\n",
       "      <td>198693</td>\n",
       "      <td>10th</td>\n",
       "      <td>6</td>\n",
       "      <td>Never-married</td>\n",
       "      <td>Other-service</td>\n",
       "      <td>Not-in-family</td>\n",
       "      <td>White</td>\n",
       "      <td>Male</td>\n",
       "      <td>0</td>\n",
       "      <td>0</td>\n",
       "      <td>30</td>\n",
       "      <td>United-States</td>\n",
       "      <td>&lt;=50K.</td>\n",
       "    </tr>\n",
       "  </tbody>\n",
       "</table>\n",
       "</div>"
      ],
      "text/plain": [
       "   25     Private  226802           11th   7        Never-married  \\\n",
       "0  38     Private   89814        HS-grad   9   Married-civ-spouse   \n",
       "1  28   Local-gov  336951     Assoc-acdm  12   Married-civ-spouse   \n",
       "2  44     Private  160323   Some-college  10   Married-civ-spouse   \n",
       "3  18           ?  103497   Some-college  10        Never-married   \n",
       "4  34     Private  198693           10th   6        Never-married   \n",
       "\n",
       "    Machine-op-inspct       Own-child   Black     Male     0  0.1  40  \\\n",
       "0     Farming-fishing         Husband   White     Male     0    0  50   \n",
       "1     Protective-serv         Husband   White     Male     0    0  40   \n",
       "2   Machine-op-inspct         Husband   Black     Male  7688    0  40   \n",
       "3                   ?       Own-child   White   Female     0    0  30   \n",
       "4       Other-service   Not-in-family   White     Male     0    0  30   \n",
       "\n",
       "    United-States   <=50K.  \n",
       "0   United-States   <=50K.  \n",
       "1   United-States    >50K.  \n",
       "2   United-States    >50K.  \n",
       "3   United-States   <=50K.  \n",
       "4   United-States   <=50K.  "
      ]
     },
     "execution_count": 6,
     "metadata": {},
     "output_type": "execute_result"
    }
   ],
   "source": [
    "testing[:5]"
   ]
  },
  {
   "cell_type": "code",
   "execution_count": 7,
   "metadata": {},
   "outputs": [],
   "source": [
    "columns =['age','workclass','fnlwgt','education','education-num','marital-status',\n",
    "           'occupation','relationship','race','sex','capital-gain','capital-loss',\n",
    "           'hours-per-week','native-country','income']"
   ]
  },
  {
   "cell_type": "code",
   "execution_count": 8,
   "metadata": {},
   "outputs": [
    {
     "data": {
      "text/html": [
       "<div>\n",
       "<style scoped>\n",
       "    .dataframe tbody tr th:only-of-type {\n",
       "        vertical-align: middle;\n",
       "    }\n",
       "\n",
       "    .dataframe tbody tr th {\n",
       "        vertical-align: top;\n",
       "    }\n",
       "\n",
       "    .dataframe thead th {\n",
       "        text-align: right;\n",
       "    }\n",
       "</style>\n",
       "<table border=\"1\" class=\"dataframe\">\n",
       "  <thead>\n",
       "    <tr style=\"text-align: right;\">\n",
       "      <th></th>\n",
       "      <th>age</th>\n",
       "      <th>workclass</th>\n",
       "      <th>education</th>\n",
       "      <th>education-num</th>\n",
       "      <th>marital-status</th>\n",
       "      <th>occupation</th>\n",
       "      <th>relationship</th>\n",
       "      <th>race</th>\n",
       "      <th>sex</th>\n",
       "      <th>capital-gain</th>\n",
       "      <th>capital-loss</th>\n",
       "      <th>hours-per-week</th>\n",
       "      <th>native-country</th>\n",
       "      <th>income</th>\n",
       "    </tr>\n",
       "  </thead>\n",
       "  <tbody>\n",
       "    <tr>\n",
       "      <th>0</th>\n",
       "      <td>39</td>\n",
       "      <td>State-gov</td>\n",
       "      <td>Bachelors</td>\n",
       "      <td>13</td>\n",
       "      <td>Never-married</td>\n",
       "      <td>Adm-clerical</td>\n",
       "      <td>Not-in-family</td>\n",
       "      <td>White</td>\n",
       "      <td>Male</td>\n",
       "      <td>2174</td>\n",
       "      <td>0</td>\n",
       "      <td>40</td>\n",
       "      <td>United-States</td>\n",
       "      <td>&lt;=50K</td>\n",
       "    </tr>\n",
       "    <tr>\n",
       "      <th>1</th>\n",
       "      <td>35</td>\n",
       "      <td>Self-emp-not-inc</td>\n",
       "      <td>Bachelors</td>\n",
       "      <td>13</td>\n",
       "      <td>Married-civ-spouse</td>\n",
       "      <td>Exec-managerial</td>\n",
       "      <td>Husband</td>\n",
       "      <td>White</td>\n",
       "      <td>Male</td>\n",
       "      <td>0</td>\n",
       "      <td>0</td>\n",
       "      <td>13</td>\n",
       "      <td>United-States</td>\n",
       "      <td>&lt;=50K</td>\n",
       "    </tr>\n",
       "    <tr>\n",
       "      <th>2</th>\n",
       "      <td>38</td>\n",
       "      <td>Private</td>\n",
       "      <td>HS-grad</td>\n",
       "      <td>9</td>\n",
       "      <td>Divorced</td>\n",
       "      <td>Handlers-cleaners</td>\n",
       "      <td>Not-in-family</td>\n",
       "      <td>White</td>\n",
       "      <td>Male</td>\n",
       "      <td>0</td>\n",
       "      <td>0</td>\n",
       "      <td>40</td>\n",
       "      <td>United-States</td>\n",
       "      <td>&lt;=50K</td>\n",
       "    </tr>\n",
       "    <tr>\n",
       "      <th>3</th>\n",
       "      <td>53</td>\n",
       "      <td>Private</td>\n",
       "      <td>11th</td>\n",
       "      <td>7</td>\n",
       "      <td>Married-civ-spouse</td>\n",
       "      <td>Handlers-cleaners</td>\n",
       "      <td>Husband</td>\n",
       "      <td>Black</td>\n",
       "      <td>Male</td>\n",
       "      <td>0</td>\n",
       "      <td>0</td>\n",
       "      <td>40</td>\n",
       "      <td>United-States</td>\n",
       "      <td>&lt;=50K</td>\n",
       "    </tr>\n",
       "    <tr>\n",
       "      <th>4</th>\n",
       "      <td>28</td>\n",
       "      <td>Private</td>\n",
       "      <td>Bachelors</td>\n",
       "      <td>13</td>\n",
       "      <td>Married-civ-spouse</td>\n",
       "      <td>Prof-specialty</td>\n",
       "      <td>Wife</td>\n",
       "      <td>Black</td>\n",
       "      <td>Female</td>\n",
       "      <td>0</td>\n",
       "      <td>0</td>\n",
       "      <td>40</td>\n",
       "      <td>Cuba</td>\n",
       "      <td>&lt;=50K</td>\n",
       "    </tr>\n",
       "  </tbody>\n",
       "</table>\n",
       "</div>"
      ],
      "text/plain": [
       "   age         workclass  education  education-num      marital-status  \\\n",
       "0   39         State-gov  Bachelors             13       Never-married   \n",
       "1   35  Self-emp-not-inc  Bachelors             13  Married-civ-spouse   \n",
       "2   38           Private    HS-grad              9            Divorced   \n",
       "3   53           Private       11th              7  Married-civ-spouse   \n",
       "4   28           Private  Bachelors             13  Married-civ-spouse   \n",
       "\n",
       "          occupation   relationship   race     sex  capital-gain  \\\n",
       "0       Adm-clerical  Not-in-family  White    Male          2174   \n",
       "1    Exec-managerial        Husband  White    Male             0   \n",
       "2  Handlers-cleaners  Not-in-family  White    Male             0   \n",
       "3  Handlers-cleaners        Husband  Black    Male             0   \n",
       "4     Prof-specialty           Wife  Black  Female             0   \n",
       "\n",
       "   capital-loss  hours-per-week native-country income  \n",
       "0             0              40  United-States  <=50K  \n",
       "1             0              13  United-States  <=50K  \n",
       "2             0              40  United-States  <=50K  \n",
       "3             0              40  United-States  <=50K  \n",
       "4             0              40           Cuba  <=50K  "
      ]
     },
     "metadata": {},
     "output_type": "display_data"
    },
    {
     "data": {
      "text/plain": [
       "(32561, 14)"
      ]
     },
     "metadata": {},
     "output_type": "display_data"
    }
   ],
   "source": [
    "# Add column names to data set\n",
    "columns = ['age', 'workclass', 'fnlwgt', 'education', 'education-num', 'marital-status', 'occupation', \n",
    "           'relationship', 'race','sex', 'capital-gain', 'capital-loss', 'hours-per-week', 'native-country', 'income']\n",
    "\n",
    "# Read in train data\n",
    "training = pd.read_csv(\"C:/Users/user/Desktop/tina/adult-training.csv\", header=None, names=columns, skipinitialspace=True)\n",
    "\n",
    "# Drop the fnlwgt column which is useless for later analysis\n",
    "training = training.drop('fnlwgt', axis=1)\n",
    "\n",
    "# Display several rows and shape of data set\n",
    "display(training.head())\n",
    "display(training.shape)"
   ]
  },
  {
   "cell_type": "markdown",
   "metadata": {},
   "source": [
    "# Question 1.A"
   ]
  },
  {
   "cell_type": "code",
   "execution_count": 9,
   "metadata": {},
   "outputs": [],
   "source": [
    "# a)\tProvide the functional form of the predictive model for each algorithm.  "
   ]
  },
  {
   "cell_type": "markdown",
   "metadata": {},
   "source": [
    "# Feature Engineering "
   ]
  },
  {
   "cell_type": "code",
   "execution_count": 10,
   "metadata": {},
   "outputs": [],
   "source": [
    "# Adding columns to the test data:"
   ]
  },
  {
   "cell_type": "code",
   "execution_count": 11,
   "metadata": {},
   "outputs": [],
   "source": [
    "# Read in test data\n",
    "testing = pd.read_csv(\"C:/Users/user/Desktop/tina/adult-test.csv\", header=None, skiprows=1, names=columns, skipinitialspace=True)\n",
    "\n",
    "# Drop the fnlwgt column which is useless for later analysis\n",
    "testing = testing.drop('fnlwgt', axis=1)"
   ]
  },
  {
   "cell_type": "code",
   "execution_count": 12,
   "metadata": {},
   "outputs": [
    {
     "data": {
      "text/html": [
       "<div>\n",
       "<style scoped>\n",
       "    .dataframe tbody tr th:only-of-type {\n",
       "        vertical-align: middle;\n",
       "    }\n",
       "\n",
       "    .dataframe tbody tr th {\n",
       "        vertical-align: top;\n",
       "    }\n",
       "\n",
       "    .dataframe thead th {\n",
       "        text-align: right;\n",
       "    }\n",
       "</style>\n",
       "<table border=\"1\" class=\"dataframe\">\n",
       "  <thead>\n",
       "    <tr style=\"text-align: right;\">\n",
       "      <th></th>\n",
       "      <th>age</th>\n",
       "      <th>workclass</th>\n",
       "      <th>education</th>\n",
       "      <th>education-num</th>\n",
       "      <th>marital-status</th>\n",
       "      <th>occupation</th>\n",
       "      <th>relationship</th>\n",
       "      <th>race</th>\n",
       "      <th>sex</th>\n",
       "      <th>capital-gain</th>\n",
       "      <th>capital-loss</th>\n",
       "      <th>hours-per-week</th>\n",
       "      <th>native-country</th>\n",
       "      <th>income</th>\n",
       "    </tr>\n",
       "  </thead>\n",
       "  <tbody>\n",
       "    <tr>\n",
       "      <th>0</th>\n",
       "      <td>38</td>\n",
       "      <td>Private</td>\n",
       "      <td>HS-grad</td>\n",
       "      <td>9</td>\n",
       "      <td>Married-civ-spouse</td>\n",
       "      <td>Farming-fishing</td>\n",
       "      <td>Husband</td>\n",
       "      <td>White</td>\n",
       "      <td>Male</td>\n",
       "      <td>0</td>\n",
       "      <td>0</td>\n",
       "      <td>50</td>\n",
       "      <td>United-States</td>\n",
       "      <td>&lt;=50K.</td>\n",
       "    </tr>\n",
       "    <tr>\n",
       "      <th>1</th>\n",
       "      <td>28</td>\n",
       "      <td>Local-gov</td>\n",
       "      <td>Assoc-acdm</td>\n",
       "      <td>12</td>\n",
       "      <td>Married-civ-spouse</td>\n",
       "      <td>Protective-serv</td>\n",
       "      <td>Husband</td>\n",
       "      <td>White</td>\n",
       "      <td>Male</td>\n",
       "      <td>0</td>\n",
       "      <td>0</td>\n",
       "      <td>40</td>\n",
       "      <td>United-States</td>\n",
       "      <td>&gt;50K.</td>\n",
       "    </tr>\n",
       "  </tbody>\n",
       "</table>\n",
       "</div>"
      ],
      "text/plain": [
       "   age  workclass   education  education-num      marital-status  \\\n",
       "0   38    Private     HS-grad              9  Married-civ-spouse   \n",
       "1   28  Local-gov  Assoc-acdm             12  Married-civ-spouse   \n",
       "\n",
       "        occupation relationship   race   sex  capital-gain  capital-loss  \\\n",
       "0  Farming-fishing      Husband  White  Male             0             0   \n",
       "1  Protective-serv      Husband  White  Male             0             0   \n",
       "\n",
       "   hours-per-week native-country  income  \n",
       "0              50  United-States  <=50K.  \n",
       "1              40  United-States   >50K.  "
      ]
     },
     "execution_count": 12,
     "metadata": {},
     "output_type": "execute_result"
    }
   ],
   "source": [
    "testing[:2]"
   ]
  },
  {
   "cell_type": "code",
   "execution_count": 13,
   "metadata": {},
   "outputs": [
    {
     "data": {
      "text/plain": [
       "0    <=50K.\n",
       "1     >50K.\n",
       "Name: income, dtype: object"
      ]
     },
     "execution_count": 13,
     "metadata": {},
     "output_type": "execute_result"
    }
   ],
   "source": [
    "testing.income[:2]"
   ]
  },
  {
   "cell_type": "code",
   "execution_count": 14,
   "metadata": {},
   "outputs": [],
   "source": [
    "# Here we can see a dot at the endo of income and it will create problem during modelling and we must remove it. "
   ]
  },
  {
   "cell_type": "code",
   "execution_count": 15,
   "metadata": {},
   "outputs": [],
   "source": [
    "# Removing '.' in income column\n",
    "testing['income'] = testing['income'].apply(lambda x: '>50K' if x=='>50K.' else '<=50K')"
   ]
  },
  {
   "cell_type": "code",
   "execution_count": 16,
   "metadata": {},
   "outputs": [
    {
     "data": {
      "text/html": [
       "<div>\n",
       "<style scoped>\n",
       "    .dataframe tbody tr th:only-of-type {\n",
       "        vertical-align: middle;\n",
       "    }\n",
       "\n",
       "    .dataframe tbody tr th {\n",
       "        vertical-align: top;\n",
       "    }\n",
       "\n",
       "    .dataframe thead th {\n",
       "        text-align: right;\n",
       "    }\n",
       "</style>\n",
       "<table border=\"1\" class=\"dataframe\">\n",
       "  <thead>\n",
       "    <tr style=\"text-align: right;\">\n",
       "      <th></th>\n",
       "      <th>age</th>\n",
       "      <th>workclass</th>\n",
       "      <th>education</th>\n",
       "      <th>education-num</th>\n",
       "      <th>marital-status</th>\n",
       "      <th>occupation</th>\n",
       "      <th>relationship</th>\n",
       "      <th>race</th>\n",
       "      <th>sex</th>\n",
       "      <th>capital-gain</th>\n",
       "      <th>capital-loss</th>\n",
       "      <th>hours-per-week</th>\n",
       "      <th>native-country</th>\n",
       "      <th>income</th>\n",
       "    </tr>\n",
       "  </thead>\n",
       "  <tbody>\n",
       "    <tr>\n",
       "      <th>0</th>\n",
       "      <td>38</td>\n",
       "      <td>Private</td>\n",
       "      <td>HS-grad</td>\n",
       "      <td>9</td>\n",
       "      <td>Married-civ-spouse</td>\n",
       "      <td>Farming-fishing</td>\n",
       "      <td>Husband</td>\n",
       "      <td>White</td>\n",
       "      <td>Male</td>\n",
       "      <td>0</td>\n",
       "      <td>0</td>\n",
       "      <td>50</td>\n",
       "      <td>United-States</td>\n",
       "      <td>&lt;=50K</td>\n",
       "    </tr>\n",
       "    <tr>\n",
       "      <th>1</th>\n",
       "      <td>28</td>\n",
       "      <td>Local-gov</td>\n",
       "      <td>Assoc-acdm</td>\n",
       "      <td>12</td>\n",
       "      <td>Married-civ-spouse</td>\n",
       "      <td>Protective-serv</td>\n",
       "      <td>Husband</td>\n",
       "      <td>White</td>\n",
       "      <td>Male</td>\n",
       "      <td>0</td>\n",
       "      <td>0</td>\n",
       "      <td>40</td>\n",
       "      <td>United-States</td>\n",
       "      <td>&gt;50K</td>\n",
       "    </tr>\n",
       "    <tr>\n",
       "      <th>2</th>\n",
       "      <td>44</td>\n",
       "      <td>Private</td>\n",
       "      <td>Some-college</td>\n",
       "      <td>10</td>\n",
       "      <td>Married-civ-spouse</td>\n",
       "      <td>Machine-op-inspct</td>\n",
       "      <td>Husband</td>\n",
       "      <td>Black</td>\n",
       "      <td>Male</td>\n",
       "      <td>7688</td>\n",
       "      <td>0</td>\n",
       "      <td>40</td>\n",
       "      <td>United-States</td>\n",
       "      <td>&gt;50K</td>\n",
       "    </tr>\n",
       "    <tr>\n",
       "      <th>3</th>\n",
       "      <td>18</td>\n",
       "      <td>?</td>\n",
       "      <td>Some-college</td>\n",
       "      <td>10</td>\n",
       "      <td>Never-married</td>\n",
       "      <td>?</td>\n",
       "      <td>Own-child</td>\n",
       "      <td>White</td>\n",
       "      <td>Female</td>\n",
       "      <td>0</td>\n",
       "      <td>0</td>\n",
       "      <td>30</td>\n",
       "      <td>United-States</td>\n",
       "      <td>&lt;=50K</td>\n",
       "    </tr>\n",
       "    <tr>\n",
       "      <th>4</th>\n",
       "      <td>34</td>\n",
       "      <td>Private</td>\n",
       "      <td>10th</td>\n",
       "      <td>6</td>\n",
       "      <td>Never-married</td>\n",
       "      <td>Other-service</td>\n",
       "      <td>Not-in-family</td>\n",
       "      <td>White</td>\n",
       "      <td>Male</td>\n",
       "      <td>0</td>\n",
       "      <td>0</td>\n",
       "      <td>30</td>\n",
       "      <td>United-States</td>\n",
       "      <td>&lt;=50K</td>\n",
       "    </tr>\n",
       "  </tbody>\n",
       "</table>\n",
       "</div>"
      ],
      "text/plain": [
       "   age  workclass     education  education-num      marital-status  \\\n",
       "0   38    Private       HS-grad              9  Married-civ-spouse   \n",
       "1   28  Local-gov    Assoc-acdm             12  Married-civ-spouse   \n",
       "2   44    Private  Some-college             10  Married-civ-spouse   \n",
       "3   18          ?  Some-college             10       Never-married   \n",
       "4   34    Private          10th              6       Never-married   \n",
       "\n",
       "          occupation   relationship   race     sex  capital-gain  \\\n",
       "0    Farming-fishing        Husband  White    Male             0   \n",
       "1    Protective-serv        Husband  White    Male             0   \n",
       "2  Machine-op-inspct        Husband  Black    Male          7688   \n",
       "3                  ?      Own-child  White  Female             0   \n",
       "4      Other-service  Not-in-family  White    Male             0   \n",
       "\n",
       "   capital-loss  hours-per-week native-country income  \n",
       "0             0              50  United-States  <=50K  \n",
       "1             0              40  United-States   >50K  \n",
       "2             0              40  United-States   >50K  \n",
       "3             0              30  United-States  <=50K  \n",
       "4             0              30  United-States  <=50K  "
      ]
     },
     "metadata": {},
     "output_type": "display_data"
    },
    {
     "data": {
      "text/plain": [
       "(16280, 14)"
      ]
     },
     "metadata": {},
     "output_type": "display_data"
    }
   ],
   "source": [
    "#\n",
    "display(testing.head())\n",
    "display(testing.shape)"
   ]
  },
  {
   "cell_type": "code",
   "execution_count": 17,
   "metadata": {},
   "outputs": [
    {
     "data": {
      "text/plain": [
       "age               0\n",
       "workclass         0\n",
       "education         0\n",
       "education-num     0\n",
       "marital-status    0\n",
       "occupation        0\n",
       "relationship      0\n",
       "race              0\n",
       "sex               0\n",
       "capital-gain      0\n",
       "capital-loss      0\n",
       "hours-per-week    0\n",
       "native-country    0\n",
       "income            0\n",
       "dtype: int64"
      ]
     },
     "execution_count": 17,
     "metadata": {},
     "output_type": "execute_result"
    }
   ],
   "source": [
    "testing.isnull().sum()"
   ]
  },
  {
   "cell_type": "code",
   "execution_count": 18,
   "metadata": {},
   "outputs": [
    {
     "data": {
      "text/plain": [
       "Husband           13193\n",
       "Not-in-family      8305\n",
       "Own-child          5068\n",
       "Unmarried          3446\n",
       "Wife               1568\n",
       "Other-relative      981\n",
       "Name: relationship, dtype: int64"
      ]
     },
     "execution_count": 18,
     "metadata": {},
     "output_type": "execute_result"
    }
   ],
   "source": [
    "training.relationship.value_counts()"
   ]
  },
  {
   "cell_type": "code",
   "execution_count": 19,
   "metadata": {},
   "outputs": [
    {
     "data": {
      "text/plain": [
       "age  workclass         education     education-num  marital-status      occupation         relationship  race   sex     capital-gain  capital-loss  hours-per-week  native-country  income\n",
       "33   Private           HS-grad       9              Married-civ-spouse  Craft-repair       Husband       White  Male    0             0             40              United-States   <=50K     16\n",
       "35   Private           HS-grad       9              Married-civ-spouse  Craft-repair       Husband       White  Male    0             0             40              United-States   <=50K     15\n",
       "51   Private           HS-grad       9              Married-civ-spouse  Craft-repair       Husband       White  Male    0             0             40              United-States   <=50K     14\n",
       "39   Private           HS-grad       9              Married-civ-spouse  Craft-repair       Husband       White  Male    0             0             40              United-States   <=50K     14\n",
       "20   ?                 Some-college  10             Never-married       ?                  Own-child     White  Female  0             0             40              United-States   <=50K     14\n",
       "                                                                                                                                                                                              ..\n",
       "32   Private           Some-college  10             Married-civ-spouse  Other-service      Husband       Black  Male    0             0             50              United-States   <=50K      1\n",
       "                                                                        Machine-op-inspct  Husband       White  Male    3464          0             40              United-States   <=50K      1\n",
       "                                                                                                                        0             0             84              United-States   >50K       1\n",
       "                                                                                                                                                    50              United-States   <=50K      1\n",
       "90   Self-emp-not-inc  Some-college  10             Married-civ-spouse  Farming-fishing    Husband       White  Male    0             0             40              United-States   <=50K      1\n",
       "Length: 29096, dtype: int64"
      ]
     },
     "execution_count": 19,
     "metadata": {},
     "output_type": "execute_result"
    }
   ],
   "source": [
    "training.value_counts()"
   ]
  },
  {
   "cell_type": "code",
   "execution_count": 20,
   "metadata": {},
   "outputs": [
    {
     "data": {
      "text/plain": [
       "Prof-specialty       4140\n",
       "Craft-repair         4099\n",
       "Exec-managerial      4066\n",
       "Adm-clerical         3770\n",
       "Sales                3650\n",
       "Other-service        3295\n",
       "Machine-op-inspct    2002\n",
       "?                    1843\n",
       "Transport-moving     1597\n",
       "Handlers-cleaners    1370\n",
       "Farming-fishing       994\n",
       "Tech-support          928\n",
       "Protective-serv       649\n",
       "Priv-house-serv       149\n",
       "Armed-Forces            9\n",
       "Name: occupation, dtype: int64"
      ]
     },
     "execution_count": 20,
     "metadata": {},
     "output_type": "execute_result"
    }
   ],
   "source": [
    "training.occupation.value_counts()"
   ]
  },
  {
   "cell_type": "code",
   "execution_count": 21,
   "metadata": {},
   "outputs": [
    {
     "name": "stdout",
     "output_type": "stream",
     "text": [
      "age               0\n",
      "workclass         0\n",
      "education         0\n",
      "education-num     0\n",
      "marital-status    0\n",
      "occupation        0\n",
      "relationship      0\n",
      "race              0\n",
      "sex               0\n",
      "capital-gain      0\n",
      "capital-loss      0\n",
      "hours-per-week    0\n",
      "native-country    0\n",
      "income            0\n",
      "dtype: int64\n"
     ]
    }
   ],
   "source": [
    "print(training.isnull().sum())"
   ]
  },
  {
   "cell_type": "code",
   "execution_count": 22,
   "metadata": {
    "scrolled": true
   },
   "outputs": [
    {
     "name": "stdout",
     "output_type": "stream",
     "text": [
      "<class 'pandas.core.frame.DataFrame'>\n",
      "RangeIndex: 32561 entries, 0 to 32560\n",
      "Data columns (total 14 columns):\n",
      " #   Column          Non-Null Count  Dtype \n",
      "---  ------          --------------  ----- \n",
      " 0   age             32561 non-null  int64 \n",
      " 1   workclass       32561 non-null  object\n",
      " 2   education       32561 non-null  object\n",
      " 3   education-num   32561 non-null  int64 \n",
      " 4   marital-status  32561 non-null  object\n",
      " 5   occupation      32561 non-null  object\n",
      " 6   relationship    32561 non-null  object\n",
      " 7   race            32561 non-null  object\n",
      " 8   sex             32561 non-null  object\n",
      " 9   capital-gain    32561 non-null  int64 \n",
      " 10  capital-loss    32561 non-null  int64 \n",
      " 11  hours-per-week  32561 non-null  int64 \n",
      " 12  native-country  32561 non-null  object\n",
      " 13  income          32561 non-null  object\n",
      "dtypes: int64(5), object(9)\n",
      "memory usage: 3.5+ MB\n"
     ]
    }
   ],
   "source": [
    "training.info()\n"
   ]
  },
  {
   "cell_type": "code",
   "execution_count": 23,
   "metadata": {},
   "outputs": [
    {
     "name": "stdout",
     "output_type": "stream",
     "text": [
      "Private             0.697030\n",
      "Self-emp-not-inc    0.078038\n",
      "Local-gov           0.064279\n",
      "?                   0.056386\n",
      "State-gov           0.039864\n",
      "Self-emp-inc        0.034274\n",
      "Federal-gov         0.029483\n",
      "Without-pay         0.000430\n",
      "Never-worked        0.000215\n",
      "Name: workclass, dtype: float64 \n",
      "\n",
      "HS-grad         0.322502\n",
      "Some-college    0.223918\n",
      "Bachelors       0.164461\n",
      "Masters         0.052916\n",
      "Assoc-voc       0.042443\n",
      "11th            0.036086\n",
      "Assoc-acdm      0.032769\n",
      "10th            0.028654\n",
      "7th-8th         0.019840\n",
      "Prof-school     0.017690\n",
      "9th             0.015786\n",
      "12th            0.013298\n",
      "Doctorate       0.012684\n",
      "5th-6th         0.010227\n",
      "1st-4th         0.005160\n",
      "Preschool       0.001566\n",
      "Name: education, dtype: float64 \n",
      "\n",
      "Married-civ-spouse       0.459937\n",
      "Never-married            0.328092\n",
      "Divorced                 0.136452\n",
      "Separated                0.031479\n",
      "Widowed                  0.030497\n",
      "Married-spouse-absent    0.012837\n",
      "Married-AF-spouse        0.000706\n",
      "Name: marital-status, dtype: float64 \n",
      "\n",
      "Prof-specialty       0.127146\n",
      "Craft-repair         0.125887\n",
      "Exec-managerial      0.124873\n",
      "Adm-clerical         0.115783\n",
      "Sales                0.112097\n",
      "Other-service        0.101195\n",
      "Machine-op-inspct    0.061485\n",
      "?                    0.056601\n",
      "Transport-moving     0.049046\n",
      "Handlers-cleaners    0.042075\n",
      "Farming-fishing      0.030527\n",
      "Tech-support         0.028500\n",
      "Protective-serv      0.019932\n",
      "Priv-house-serv      0.004576\n",
      "Armed-Forces         0.000276\n",
      "Name: occupation, dtype: float64 \n",
      "\n",
      "Husband           0.405178\n",
      "Not-in-family     0.255060\n",
      "Own-child         0.155646\n",
      "Unmarried         0.105832\n",
      "Wife              0.048156\n",
      "Other-relative    0.030128\n",
      "Name: relationship, dtype: float64 \n",
      "\n",
      "White                 0.854274\n",
      "Black                 0.095943\n",
      "Asian-Pac-Islander    0.031909\n",
      "Amer-Indian-Eskimo    0.009551\n",
      "Other                 0.008323\n",
      "Name: race, dtype: float64 \n",
      "\n",
      "Male      0.669205\n",
      "Female    0.330795\n",
      "Name: sex, dtype: float64 \n",
      "\n",
      "United-States                 0.895857\n",
      "Mexico                        0.019748\n",
      "?                             0.017905\n",
      "Philippines                   0.006081\n",
      "Germany                       0.004207\n",
      "Canada                        0.003716\n",
      "Puerto-Rico                   0.003501\n",
      "El-Salvador                   0.003255\n",
      "India                         0.003071\n",
      "Cuba                          0.002918\n",
      "England                       0.002764\n",
      "Jamaica                       0.002488\n",
      "South                         0.002457\n",
      "China                         0.002303\n",
      "Italy                         0.002242\n",
      "Dominican-Republic            0.002150\n",
      "Vietnam                       0.002058\n",
      "Guatemala                     0.001966\n",
      "Japan                         0.001904\n",
      "Poland                        0.001843\n",
      "Columbia                      0.001812\n",
      "Taiwan                        0.001566\n",
      "Haiti                         0.001351\n",
      "Iran                          0.001321\n",
      "Portugal                      0.001136\n",
      "Nicaragua                     0.001044\n",
      "Peru                          0.000952\n",
      "Greece                        0.000891\n",
      "France                        0.000891\n",
      "Ecuador                       0.000860\n",
      "Ireland                       0.000737\n",
      "Hong                          0.000614\n",
      "Trinadad&Tobago               0.000584\n",
      "Cambodia                      0.000584\n",
      "Thailand                      0.000553\n",
      "Laos                          0.000553\n",
      "Yugoslavia                    0.000491\n",
      "Outlying-US(Guam-USVI-etc)    0.000430\n",
      "Hungary                       0.000399\n",
      "Honduras                      0.000399\n",
      "Scotland                      0.000369\n",
      "Holand-Netherlands            0.000031\n",
      "Name: native-country, dtype: float64 \n",
      "\n",
      "<=50K    0.75919\n",
      ">50K     0.24081\n",
      "Name: income, dtype: float64 \n",
      "\n"
     ]
    }
   ],
   "source": [
    "# Check missing value code and convert to NaNs\n",
    "object_col = training.select_dtypes(include=object).columns.tolist()\n",
    "for col in object_col:\n",
    "    print(training[col].value_counts(dropna=False)/training.shape[0],'\\n')"
   ]
  },
  {
   "cell_type": "code",
   "execution_count": 24,
   "metadata": {},
   "outputs": [
    {
     "data": {
      "text/plain": [
       "occupation        0.056601\n",
       "workclass         0.056386\n",
       "native-country    0.017905\n",
       "age               0.000000\n",
       "education         0.000000\n",
       "education-num     0.000000\n",
       "marital-status    0.000000\n",
       "relationship      0.000000\n",
       "race              0.000000\n",
       "sex               0.000000\n",
       "capital-gain      0.000000\n",
       "capital-loss      0.000000\n",
       "hours-per-week    0.000000\n",
       "income            0.000000\n",
       "dtype: float64"
      ]
     },
     "execution_count": 24,
     "metadata": {},
     "output_type": "execute_result"
    }
   ],
   "source": [
    "# Convert '?' to NaNs and remove the entries with NaN value\n",
    "for col in object_col:\n",
    "    training.loc[training[col]=='?', col] = np.nan\n",
    "    testing.loc[testing[col]=='?', col] = np.nan\n",
    "\n",
    "# Perform an mssing assessment in each column of the dataset.\n",
    "col_missing_pct = training.isna().sum()/training.shape[0]\n",
    "col_missing_pct.sort_values(ascending=False)"
   ]
  },
  {
   "cell_type": "code",
   "execution_count": 25,
   "metadata": {},
   "outputs": [],
   "source": [
    "# Remove data entries with missing value\n",
    "training = training.dropna(axis=0, how='any')\n",
    "testing = testing.dropna(axis=0, how='any')\n"
   ]
  },
  {
   "cell_type": "code",
   "execution_count": 26,
   "metadata": {},
   "outputs": [
    {
     "data": {
      "text/plain": [
       "age               30162\n",
       "workclass         30162\n",
       "education         30162\n",
       "education-num     30162\n",
       "marital-status    30162\n",
       "occupation        30162\n",
       "relationship      30162\n",
       "race              30162\n",
       "sex               30162\n",
       "capital-gain      30162\n",
       "capital-loss      30162\n",
       "hours-per-week    30162\n",
       "native-country    30162\n",
       "income            30162\n",
       "dtype: int64"
      ]
     },
     "execution_count": 26,
     "metadata": {},
     "output_type": "execute_result"
    }
   ],
   "source": [
    "training.isna().count()"
   ]
  },
  {
   "cell_type": "code",
   "execution_count": 27,
   "metadata": {},
   "outputs": [
    {
     "name": "stdout",
     "output_type": "stream",
     "text": [
      "Training set: 30162 .\n",
      "Testing set: 15059 .\n"
     ]
    }
   ],
   "source": [
    "# Shape of train and test after dropping missing and other irrelavant columns\n",
    "\n",
    "print(\"Training set: {} .\".format(training.shape[0]))\n",
    "print(\"Testing set: {} .\".format(testing.shape[0]))\n",
    "#training.shape().count()\n",
    "#testing.shape().count()"
   ]
  },
  {
   "cell_type": "code",
   "execution_count": 28,
   "metadata": {},
   "outputs": [],
   "source": [
    "# Combine the Both Dataset\n",
    "dataset = pd.concat([training, testing])"
   ]
  },
  {
   "cell_type": "code",
   "execution_count": 29,
   "metadata": {},
   "outputs": [
    {
     "data": {
      "text/html": [
       "<div>\n",
       "<style scoped>\n",
       "    .dataframe tbody tr th:only-of-type {\n",
       "        vertical-align: middle;\n",
       "    }\n",
       "\n",
       "    .dataframe tbody tr th {\n",
       "        vertical-align: top;\n",
       "    }\n",
       "\n",
       "    .dataframe thead th {\n",
       "        text-align: right;\n",
       "    }\n",
       "</style>\n",
       "<table border=\"1\" class=\"dataframe\">\n",
       "  <thead>\n",
       "    <tr style=\"text-align: right;\">\n",
       "      <th></th>\n",
       "      <th>age</th>\n",
       "      <th>workclass</th>\n",
       "      <th>education</th>\n",
       "      <th>education-num</th>\n",
       "      <th>marital-status</th>\n",
       "      <th>occupation</th>\n",
       "      <th>relationship</th>\n",
       "      <th>race</th>\n",
       "      <th>sex</th>\n",
       "      <th>capital-gain</th>\n",
       "      <th>capital-loss</th>\n",
       "      <th>hours-per-week</th>\n",
       "      <th>native-country</th>\n",
       "      <th>income</th>\n",
       "    </tr>\n",
       "  </thead>\n",
       "  <tbody>\n",
       "    <tr>\n",
       "      <th>0</th>\n",
       "      <td>39</td>\n",
       "      <td>State-gov</td>\n",
       "      <td>Bachelors</td>\n",
       "      <td>13</td>\n",
       "      <td>Never-married</td>\n",
       "      <td>Adm-clerical</td>\n",
       "      <td>Not-in-family</td>\n",
       "      <td>White</td>\n",
       "      <td>Male</td>\n",
       "      <td>2174</td>\n",
       "      <td>0</td>\n",
       "      <td>40</td>\n",
       "      <td>United-States</td>\n",
       "      <td>&lt;=50K</td>\n",
       "    </tr>\n",
       "    <tr>\n",
       "      <th>1</th>\n",
       "      <td>35</td>\n",
       "      <td>Self-emp-not-inc</td>\n",
       "      <td>Bachelors</td>\n",
       "      <td>13</td>\n",
       "      <td>Married-civ-spouse</td>\n",
       "      <td>Exec-managerial</td>\n",
       "      <td>Husband</td>\n",
       "      <td>White</td>\n",
       "      <td>Male</td>\n",
       "      <td>0</td>\n",
       "      <td>0</td>\n",
       "      <td>13</td>\n",
       "      <td>United-States</td>\n",
       "      <td>&lt;=50K</td>\n",
       "    </tr>\n",
       "    <tr>\n",
       "      <th>2</th>\n",
       "      <td>38</td>\n",
       "      <td>Private</td>\n",
       "      <td>HS-grad</td>\n",
       "      <td>9</td>\n",
       "      <td>Divorced</td>\n",
       "      <td>Handlers-cleaners</td>\n",
       "      <td>Not-in-family</td>\n",
       "      <td>White</td>\n",
       "      <td>Male</td>\n",
       "      <td>0</td>\n",
       "      <td>0</td>\n",
       "      <td>40</td>\n",
       "      <td>United-States</td>\n",
       "      <td>&lt;=50K</td>\n",
       "    </tr>\n",
       "    <tr>\n",
       "      <th>3</th>\n",
       "      <td>53</td>\n",
       "      <td>Private</td>\n",
       "      <td>11th</td>\n",
       "      <td>7</td>\n",
       "      <td>Married-civ-spouse</td>\n",
       "      <td>Handlers-cleaners</td>\n",
       "      <td>Husband</td>\n",
       "      <td>Black</td>\n",
       "      <td>Male</td>\n",
       "      <td>0</td>\n",
       "      <td>0</td>\n",
       "      <td>40</td>\n",
       "      <td>United-States</td>\n",
       "      <td>&lt;=50K</td>\n",
       "    </tr>\n",
       "    <tr>\n",
       "      <th>4</th>\n",
       "      <td>28</td>\n",
       "      <td>Private</td>\n",
       "      <td>Bachelors</td>\n",
       "      <td>13</td>\n",
       "      <td>Married-civ-spouse</td>\n",
       "      <td>Prof-specialty</td>\n",
       "      <td>Wife</td>\n",
       "      <td>Black</td>\n",
       "      <td>Female</td>\n",
       "      <td>0</td>\n",
       "      <td>0</td>\n",
       "      <td>40</td>\n",
       "      <td>Cuba</td>\n",
       "      <td>&lt;=50K</td>\n",
       "    </tr>\n",
       "    <tr>\n",
       "      <th>...</th>\n",
       "      <td>...</td>\n",
       "      <td>...</td>\n",
       "      <td>...</td>\n",
       "      <td>...</td>\n",
       "      <td>...</td>\n",
       "      <td>...</td>\n",
       "      <td>...</td>\n",
       "      <td>...</td>\n",
       "      <td>...</td>\n",
       "      <td>...</td>\n",
       "      <td>...</td>\n",
       "      <td>...</td>\n",
       "      <td>...</td>\n",
       "      <td>...</td>\n",
       "    </tr>\n",
       "    <tr>\n",
       "      <th>16274</th>\n",
       "      <td>33</td>\n",
       "      <td>Private</td>\n",
       "      <td>Bachelors</td>\n",
       "      <td>13</td>\n",
       "      <td>Never-married</td>\n",
       "      <td>Prof-specialty</td>\n",
       "      <td>Own-child</td>\n",
       "      <td>White</td>\n",
       "      <td>Male</td>\n",
       "      <td>0</td>\n",
       "      <td>0</td>\n",
       "      <td>40</td>\n",
       "      <td>United-States</td>\n",
       "      <td>&lt;=50K</td>\n",
       "    </tr>\n",
       "    <tr>\n",
       "      <th>16275</th>\n",
       "      <td>39</td>\n",
       "      <td>Private</td>\n",
       "      <td>Bachelors</td>\n",
       "      <td>13</td>\n",
       "      <td>Divorced</td>\n",
       "      <td>Prof-specialty</td>\n",
       "      <td>Not-in-family</td>\n",
       "      <td>White</td>\n",
       "      <td>Female</td>\n",
       "      <td>0</td>\n",
       "      <td>0</td>\n",
       "      <td>36</td>\n",
       "      <td>United-States</td>\n",
       "      <td>&lt;=50K</td>\n",
       "    </tr>\n",
       "    <tr>\n",
       "      <th>16277</th>\n",
       "      <td>38</td>\n",
       "      <td>Private</td>\n",
       "      <td>Bachelors</td>\n",
       "      <td>13</td>\n",
       "      <td>Married-civ-spouse</td>\n",
       "      <td>Prof-specialty</td>\n",
       "      <td>Husband</td>\n",
       "      <td>White</td>\n",
       "      <td>Male</td>\n",
       "      <td>0</td>\n",
       "      <td>0</td>\n",
       "      <td>50</td>\n",
       "      <td>United-States</td>\n",
       "      <td>&lt;=50K</td>\n",
       "    </tr>\n",
       "    <tr>\n",
       "      <th>16278</th>\n",
       "      <td>44</td>\n",
       "      <td>Private</td>\n",
       "      <td>Bachelors</td>\n",
       "      <td>13</td>\n",
       "      <td>Divorced</td>\n",
       "      <td>Adm-clerical</td>\n",
       "      <td>Own-child</td>\n",
       "      <td>Asian-Pac-Islander</td>\n",
       "      <td>Male</td>\n",
       "      <td>5455</td>\n",
       "      <td>0</td>\n",
       "      <td>40</td>\n",
       "      <td>United-States</td>\n",
       "      <td>&lt;=50K</td>\n",
       "    </tr>\n",
       "    <tr>\n",
       "      <th>16279</th>\n",
       "      <td>35</td>\n",
       "      <td>Self-emp-inc</td>\n",
       "      <td>Bachelors</td>\n",
       "      <td>13</td>\n",
       "      <td>Married-civ-spouse</td>\n",
       "      <td>Exec-managerial</td>\n",
       "      <td>Husband</td>\n",
       "      <td>White</td>\n",
       "      <td>Male</td>\n",
       "      <td>0</td>\n",
       "      <td>0</td>\n",
       "      <td>60</td>\n",
       "      <td>United-States</td>\n",
       "      <td>&gt;50K</td>\n",
       "    </tr>\n",
       "  </tbody>\n",
       "</table>\n",
       "<p>45221 rows × 14 columns</p>\n",
       "</div>"
      ],
      "text/plain": [
       "       age         workclass  education  education-num      marital-status  \\\n",
       "0       39         State-gov  Bachelors             13       Never-married   \n",
       "1       35  Self-emp-not-inc  Bachelors             13  Married-civ-spouse   \n",
       "2       38           Private    HS-grad              9            Divorced   \n",
       "3       53           Private       11th              7  Married-civ-spouse   \n",
       "4       28           Private  Bachelors             13  Married-civ-spouse   \n",
       "...    ...               ...        ...            ...                 ...   \n",
       "16274   33           Private  Bachelors             13       Never-married   \n",
       "16275   39           Private  Bachelors             13            Divorced   \n",
       "16277   38           Private  Bachelors             13  Married-civ-spouse   \n",
       "16278   44           Private  Bachelors             13            Divorced   \n",
       "16279   35      Self-emp-inc  Bachelors             13  Married-civ-spouse   \n",
       "\n",
       "              occupation   relationship                race     sex  \\\n",
       "0           Adm-clerical  Not-in-family               White    Male   \n",
       "1        Exec-managerial        Husband               White    Male   \n",
       "2      Handlers-cleaners  Not-in-family               White    Male   \n",
       "3      Handlers-cleaners        Husband               Black    Male   \n",
       "4         Prof-specialty           Wife               Black  Female   \n",
       "...                  ...            ...                 ...     ...   \n",
       "16274     Prof-specialty      Own-child               White    Male   \n",
       "16275     Prof-specialty  Not-in-family               White  Female   \n",
       "16277     Prof-specialty        Husband               White    Male   \n",
       "16278       Adm-clerical      Own-child  Asian-Pac-Islander    Male   \n",
       "16279    Exec-managerial        Husband               White    Male   \n",
       "\n",
       "       capital-gain  capital-loss  hours-per-week native-country income  \n",
       "0              2174             0              40  United-States  <=50K  \n",
       "1                 0             0              13  United-States  <=50K  \n",
       "2                 0             0              40  United-States  <=50K  \n",
       "3                 0             0              40  United-States  <=50K  \n",
       "4                 0             0              40           Cuba  <=50K  \n",
       "...             ...           ...             ...            ...    ...  \n",
       "16274             0             0              40  United-States  <=50K  \n",
       "16275             0             0              36  United-States  <=50K  \n",
       "16277             0             0              50  United-States  <=50K  \n",
       "16278          5455             0              40  United-States  <=50K  \n",
       "16279             0             0              60  United-States   >50K  \n",
       "\n",
       "[45221 rows x 14 columns]"
      ]
     },
     "execution_count": 29,
     "metadata": {},
     "output_type": "execute_result"
    }
   ],
   "source": [
    "dataset"
   ]
  },
  {
   "cell_type": "code",
   "execution_count": 30,
   "metadata": {},
   "outputs": [
    {
     "name": "stderr",
     "output_type": "stream",
     "text": [
      "C:\\Users\\user\\anaconda3\\envs\\MLEnv\\lib\\site-packages\\seaborn\\_decorators.py:43: FutureWarning: Pass the following variables as keyword args: x, y. From version 0.12, the only valid positional argument will be `data`, and passing other arguments without an explicit keyword will result in an error or misinterpretation.\n",
      "  FutureWarning\n"
     ]
    },
    {
     "data": {
      "text/plain": [
       "<seaborn.axisgrid.FacetGrid at 0x139d1d0acc8>"
      ]
     },
     "execution_count": 30,
     "metadata": {},
     "output_type": "execute_result"
    },
    {
     "data": {
      "image/png": "[encoded data removed]",
      "text/plain": [
       "<Figure size 1872.12x2160 with 30 Axes>"
      ]
     },
     "metadata": {
      "needs_background": "light"
     },
     "output_type": "display_data"
    }
   ],
   "source": [
    "# Overview of the data which are more significant \n",
    "sns.catplot('income', 'capital-gain', hue='sex', data=dataset, kind='bar', col='race', row='relationship')"
   ]
  },
  {
   "cell_type": "code",
   "execution_count": 31,
   "metadata": {},
   "outputs": [],
   "source": [
    "# https://www.geeksforgeeks.org/matplotlib-axis-axis-get_majorticklocs-function-in-python/"
   ]
  },
  {
   "cell_type": "code",
   "execution_count": 32,
   "metadata": {},
   "outputs": [
    {
     "name": "stderr",
     "output_type": "stream",
     "text": [
      "C:\\Users\\user\\anaconda3\\envs\\MLEnv\\lib\\site-packages\\ipykernel_launcher.py:29: UserWarning: FixedFormatter should only be used together with FixedLocator\n",
      "C:\\Users\\user\\anaconda3\\envs\\MLEnv\\lib\\site-packages\\ipykernel_launcher.py:30: UserWarning: FixedFormatter should only be used together with FixedLocator\n",
      "C:\\Users\\user\\anaconda3\\envs\\MLEnv\\lib\\site-packages\\ipykernel_launcher.py:37: UserWarning: Matplotlib is currently using module://ipykernel.pylab.backend_inline, which is a non-GUI backend, so cannot show the figure.\n"
     ]
    },
    {
     "data": {
      "image/png": "[encoded data removed]",
      "text/plain": [
       "<Figure size 1080x1080 with 2 Axes>"
      ]
     },
     "metadata": {
      "needs_background": "light"
     },
     "output_type": "display_data"
    }
   ],
   "source": [
    "fig, ax =plt.subplots(2,1, figsize = (15, 15))\n",
    "\n",
    "\n",
    "# Initialize the Plot\n",
    "sns.countplot(x = 'age', hue = 'income', data = dataset[dataset.sex=='Female'], saturation=1, ax=ax[0])\n",
    "sns.countplot(x = 'age', hue = 'income', data = dataset[dataset.sex=='Male'], saturation=1, ax=ax[1])\n",
    "\n",
    "# Adding the  titles\n",
    "ax[0].set_title('Female income by Age', loc='center', fontsize = 16)\n",
    "ax[1].set_title('Male income by Age', loc='center', fontsize = 16)\n",
    "\n",
    "# Adding the labels\n",
    "ax[0].set_xlabel(\"Age\")\n",
    "ax[1].set_xlabel(\"Age\")\n",
    "ax[0].set_ylabel(\"Percentage of Records\")\n",
    "ax[1].set_ylabel(\"Percentage of Records\")\n",
    "\n",
    "# Adding the  x_axis ticks\n",
    "new_ticks = [i.get_text() for i in ax[0].get_xticklabels()]\n",
    "ax[0].set_xticks(range(0, len(new_ticks), 10))\n",
    "ax[0].set_xticklabels(new_ticks[::10])\n",
    "ax[1].set_xticks(range(0, len(new_ticks), 10))\n",
    "ax[1].set_xticklabels(new_ticks[::10])\n",
    "\n",
    "\n",
    "# Modify y_axis ticks by get_majorticklocks method to get the propotion\n",
    "female = dataset[dataset.sex=='Female'].shape[0]*1.\n",
    "male = dataset[dataset.sex=='Male'].shape[0]*1.\n",
    "ax[0].set_yticklabels(map('{:.1f}%'.format, 100*ax[0].yaxis.get_majorticklocs()/female))#\n",
    "ax[1].set_yticklabels(map('{:.1f}%'.format, 100*ax[1].yaxis.get_majorticklocs()/male))# \n",
    "\n",
    "# Change legend location\n",
    "ax[0].legend(loc=1, title='Income')\n",
    "ax[1].legend(loc=1, title='Income')\n",
    "\n",
    "fig.tight_layout()\n",
    "fig.show()"
   ]
  },
  {
   "cell_type": "code",
   "execution_count": 33,
   "metadata": {},
   "outputs": [
    {
     "name": "stdout",
     "output_type": "stream",
     "text": [
      "Total number of records in dataset: 45221\n",
      "Adults making more than $50,000: 11208\n",
      "Aduls making less than  $50,000: 34013\n",
      "Percentage of Adults making more than $50,000: 24.78%\n"
     ]
    }
   ],
   "source": [
    "number_of_records = dataset.shape[0]# column # Total number of records\n",
    "# Number of records where Adults making more than 50k $\n",
    "income_greaterthan_50k = np.sum(dataset.income=='>50K')\n",
    "# Number of records where Adults incomre is less than 50k $\n",
    "income_lessthan_50k = np.sum(dataset.income=='<=50K')\n",
    "# Percentage of Adults whose income is more than 50k $\n",
    "greater_percentage = round(np.mean(dataset.income=='>50K')*100.00, 2)\n",
    "print(\"Total number of records in dataset: {}\".format(number_of_records))\n",
    "print(\"Adults making more than $50,000: {}\".format(income_greaterthan_50k))\n",
    "print(\"Aduls making less than  $50,000: {}\".format(income_lessthan_50k))\n",
    "print(\"Percentage of Adults making more than $50,000: {}%\".format(greater_percentage))"
   ]
  },
  {
   "cell_type": "code",
   "execution_count": 34,
   "metadata": {},
   "outputs": [
    {
     "name": "stderr",
     "output_type": "stream",
     "text": [
      "C:\\Users\\user\\anaconda3\\envs\\MLEnv\\lib\\site-packages\\ipykernel_launcher.py:19: UserWarning: Matplotlib is currently using module://ipykernel.pylab.backend_inline, which is a non-GUI backend, so cannot show the figure.\n"
     ]
    },
    {
     "data": {
      "image/png": "[encoded data removed]",
      "text/plain": [
       "<Figure size 720x936 with 5 Axes>"
      ]
     },
     "metadata": {
      "needs_background": "light"
     },
     "output_type": "display_data"
    }
   ],
   "source": [
    "# Checking of the SKEWNESS in numerical variables in data set\n",
    "skewness = dataset.dtypes[dataset.dtypes != 'object'].index # choosing the entire dataset except the object : which are strings\n",
    "\n",
    "fig = plt.figure(figsize = (10,13)); #creating a figure\n",
    "\n",
    "# Skewed feature plotting\n",
    "for i, feature in enumerate(dataset[skewness]):\n",
    "    ax = fig.add_subplot(3,2,i+1)\n",
    "    ax.hist(dataset[feature], bins = 25, color = 'gray')# histogram \n",
    "    ax.set_title(\"'%s' Variable skweness Distribution\"%(feature), fontsize = 14)\n",
    "    ax.set_xlabel(\"Value with respect to the particular variable\")\n",
    "    ax.set_ylabel(\"Number of Records in dataset\")\n",
    "    ax.set_ylim((0, 5000)) # limits \n",
    "    ax.set_yticks([0, 1000, 2000, 3000,4000,5000]) #levels of records \n",
    "    ax.set_yticklabels([0, 1000, 2000, 3000,4000, \">5000\"])\n",
    "\n",
    "fig.suptitle(\"Skewed Distributions of Continuous Census Data Features\", fontsize = 16 , y = 1.03)# extended plot title with size and the gap between the subplots\n",
    "fig.tight_layout()\n",
    "fig.show()"
   ]
  },
  {
   "cell_type": "code",
   "execution_count": 35,
   "metadata": {},
   "outputs": [
    {
     "data": {
      "text/html": [
       "<div>\n",
       "<style scoped>\n",
       "    .dataframe tbody tr th:only-of-type {\n",
       "        vertical-align: middle;\n",
       "    }\n",
       "\n",
       "    .dataframe tbody tr th {\n",
       "        vertical-align: top;\n",
       "    }\n",
       "\n",
       "    .dataframe thead th {\n",
       "        text-align: right;\n",
       "    }\n",
       "</style>\n",
       "<table border=\"1\" class=\"dataframe\">\n",
       "  <thead>\n",
       "    <tr style=\"text-align: right;\">\n",
       "      <th></th>\n",
       "      <th>Skew</th>\n",
       "    </tr>\n",
       "  </thead>\n",
       "  <tbody>\n",
       "    <tr>\n",
       "      <th>capital-gain</th>\n",
       "      <td>11.788871</td>\n",
       "    </tr>\n",
       "    <tr>\n",
       "      <th>capital-loss</th>\n",
       "      <td>4.516247</td>\n",
       "    </tr>\n",
       "    <tr>\n",
       "      <th>age</th>\n",
       "      <td>0.532857</td>\n",
       "    </tr>\n",
       "    <tr>\n",
       "      <th>hours-per-week</th>\n",
       "      <td>0.340536</td>\n",
       "    </tr>\n",
       "    <tr>\n",
       "      <th>education-num</th>\n",
       "      <td>-0.310674</td>\n",
       "    </tr>\n",
       "  </tbody>\n",
       "</table>\n",
       "</div>"
      ],
      "text/plain": [
       "                     Skew\n",
       "capital-gain    11.788871\n",
       "capital-loss     4.516247\n",
       "age              0.532857\n",
       "hours-per-week   0.340536\n",
       "education-num   -0.310674"
      ]
     },
     "execution_count": 35,
     "metadata": {},
     "output_type": "execute_result"
    }
   ],
   "source": [
    "# SKEWNESS Calculation in the dataset(Numeric Variables)\n",
    "\n",
    "skew_test = dataset[skewness].skew().sort_values(ascending=False)\n",
    "skewness_result = pd.DataFrame({'Skew': skew_test})\n",
    "skewness_result"
   ]
  },
  {
   "cell_type": "code",
   "execution_count": 36,
   "metadata": {},
   "outputs": [],
   "source": [
    "# Label Encoding"
   ]
  },
  {
   "cell_type": "code",
   "execution_count": 37,
   "metadata": {},
   "outputs": [],
   "source": [
    "# https://www.geeksforgeeks.org/ml-one-hot-encoding-of-datasets-in-python/"
   ]
  },
  {
   "cell_type": "code",
   "execution_count": 38,
   "metadata": {},
   "outputs": [],
   "source": [
    "from sklearn import preprocessing\n",
    "from sklearn.preprocessing import LabelEncoder\n",
    "le = LabelEncoder()\n",
    "dataset['workclass']= le.fit_transform(dataset['workclass'])\n",
    "dataset['education']= le.fit_transform(dataset['education'])\n",
    "dataset['marital-status']= le.fit_transform(dataset['marital-status'])\n",
    "dataset['occupation']= le.fit_transform(dataset['occupation'])\n",
    "dataset['relationship']= le.fit_transform(dataset['relationship'])\n",
    "dataset['race']= le.fit_transform(dataset['race'])\n",
    "dataset['sex']= le.fit_transform(dataset['sex'])\n",
    "dataset['native-country']= le.fit_transform(dataset['native-country'])\n",
    "dataset['income']= le.fit_transform(dataset['income'])\n"
   ]
  },
  {
   "cell_type": "code",
   "execution_count": 39,
   "metadata": {
    "scrolled": true
   },
   "outputs": [
    {
     "data": {
      "text/html": [
       "<div>\n",
       "<style scoped>\n",
       "    .dataframe tbody tr th:only-of-type {\n",
       "        vertical-align: middle;\n",
       "    }\n",
       "\n",
       "    .dataframe tbody tr th {\n",
       "        vertical-align: top;\n",
       "    }\n",
       "\n",
       "    .dataframe thead th {\n",
       "        text-align: right;\n",
       "    }\n",
       "</style>\n",
       "<table border=\"1\" class=\"dataframe\">\n",
       "  <thead>\n",
       "    <tr style=\"text-align: right;\">\n",
       "      <th></th>\n",
       "      <th>age</th>\n",
       "      <th>workclass</th>\n",
       "      <th>education</th>\n",
       "      <th>education-num</th>\n",
       "      <th>marital-status</th>\n",
       "      <th>occupation</th>\n",
       "      <th>relationship</th>\n",
       "      <th>race</th>\n",
       "      <th>sex</th>\n",
       "      <th>capital-gain</th>\n",
       "      <th>capital-loss</th>\n",
       "      <th>hours-per-week</th>\n",
       "      <th>native-country</th>\n",
       "      <th>income</th>\n",
       "    </tr>\n",
       "  </thead>\n",
       "  <tbody>\n",
       "    <tr>\n",
       "      <th>0</th>\n",
       "      <td>39</td>\n",
       "      <td>5</td>\n",
       "      <td>9</td>\n",
       "      <td>13</td>\n",
       "      <td>4</td>\n",
       "      <td>0</td>\n",
       "      <td>1</td>\n",
       "      <td>4</td>\n",
       "      <td>1</td>\n",
       "      <td>2174</td>\n",
       "      <td>0</td>\n",
       "      <td>40</td>\n",
       "      <td>38</td>\n",
       "      <td>0</td>\n",
       "    </tr>\n",
       "    <tr>\n",
       "      <th>1</th>\n",
       "      <td>35</td>\n",
       "      <td>4</td>\n",
       "      <td>9</td>\n",
       "      <td>13</td>\n",
       "      <td>2</td>\n",
       "      <td>3</td>\n",
       "      <td>0</td>\n",
       "      <td>4</td>\n",
       "      <td>1</td>\n",
       "      <td>0</td>\n",
       "      <td>0</td>\n",
       "      <td>13</td>\n",
       "      <td>38</td>\n",
       "      <td>0</td>\n",
       "    </tr>\n",
       "    <tr>\n",
       "      <th>2</th>\n",
       "      <td>38</td>\n",
       "      <td>2</td>\n",
       "      <td>11</td>\n",
       "      <td>9</td>\n",
       "      <td>0</td>\n",
       "      <td>5</td>\n",
       "      <td>1</td>\n",
       "      <td>4</td>\n",
       "      <td>1</td>\n",
       "      <td>0</td>\n",
       "      <td>0</td>\n",
       "      <td>40</td>\n",
       "      <td>38</td>\n",
       "      <td>0</td>\n",
       "    </tr>\n",
       "    <tr>\n",
       "      <th>3</th>\n",
       "      <td>53</td>\n",
       "      <td>2</td>\n",
       "      <td>1</td>\n",
       "      <td>7</td>\n",
       "      <td>2</td>\n",
       "      <td>5</td>\n",
       "      <td>0</td>\n",
       "      <td>2</td>\n",
       "      <td>1</td>\n",
       "      <td>0</td>\n",
       "      <td>0</td>\n",
       "      <td>40</td>\n",
       "      <td>38</td>\n",
       "      <td>0</td>\n",
       "    </tr>\n",
       "    <tr>\n",
       "      <th>4</th>\n",
       "      <td>28</td>\n",
       "      <td>2</td>\n",
       "      <td>9</td>\n",
       "      <td>13</td>\n",
       "      <td>2</td>\n",
       "      <td>9</td>\n",
       "      <td>5</td>\n",
       "      <td>2</td>\n",
       "      <td>0</td>\n",
       "      <td>0</td>\n",
       "      <td>0</td>\n",
       "      <td>40</td>\n",
       "      <td>4</td>\n",
       "      <td>0</td>\n",
       "    </tr>\n",
       "    <tr>\n",
       "      <th>...</th>\n",
       "      <td>...</td>\n",
       "      <td>...</td>\n",
       "      <td>...</td>\n",
       "      <td>...</td>\n",
       "      <td>...</td>\n",
       "      <td>...</td>\n",
       "      <td>...</td>\n",
       "      <td>...</td>\n",
       "      <td>...</td>\n",
       "      <td>...</td>\n",
       "      <td>...</td>\n",
       "      <td>...</td>\n",
       "      <td>...</td>\n",
       "      <td>...</td>\n",
       "    </tr>\n",
       "    <tr>\n",
       "      <th>16274</th>\n",
       "      <td>33</td>\n",
       "      <td>2</td>\n",
       "      <td>9</td>\n",
       "      <td>13</td>\n",
       "      <td>4</td>\n",
       "      <td>9</td>\n",
       "      <td>3</td>\n",
       "      <td>4</td>\n",
       "      <td>1</td>\n",
       "      <td>0</td>\n",
       "      <td>0</td>\n",
       "      <td>40</td>\n",
       "      <td>38</td>\n",
       "      <td>0</td>\n",
       "    </tr>\n",
       "    <tr>\n",
       "      <th>16275</th>\n",
       "      <td>39</td>\n",
       "      <td>2</td>\n",
       "      <td>9</td>\n",
       "      <td>13</td>\n",
       "      <td>0</td>\n",
       "      <td>9</td>\n",
       "      <td>1</td>\n",
       "      <td>4</td>\n",
       "      <td>0</td>\n",
       "      <td>0</td>\n",
       "      <td>0</td>\n",
       "      <td>36</td>\n",
       "      <td>38</td>\n",
       "      <td>0</td>\n",
       "    </tr>\n",
       "    <tr>\n",
       "      <th>16277</th>\n",
       "      <td>38</td>\n",
       "      <td>2</td>\n",
       "      <td>9</td>\n",
       "      <td>13</td>\n",
       "      <td>2</td>\n",
       "      <td>9</td>\n",
       "      <td>0</td>\n",
       "      <td>4</td>\n",
       "      <td>1</td>\n",
       "      <td>0</td>\n",
       "      <td>0</td>\n",
       "      <td>50</td>\n",
       "      <td>38</td>\n",
       "      <td>0</td>\n",
       "    </tr>\n",
       "    <tr>\n",
       "      <th>16278</th>\n",
       "      <td>44</td>\n",
       "      <td>2</td>\n",
       "      <td>9</td>\n",
       "      <td>13</td>\n",
       "      <td>0</td>\n",
       "      <td>0</td>\n",
       "      <td>3</td>\n",
       "      <td>1</td>\n",
       "      <td>1</td>\n",
       "      <td>5455</td>\n",
       "      <td>0</td>\n",
       "      <td>40</td>\n",
       "      <td>38</td>\n",
       "      <td>0</td>\n",
       "    </tr>\n",
       "    <tr>\n",
       "      <th>16279</th>\n",
       "      <td>35</td>\n",
       "      <td>3</td>\n",
       "      <td>9</td>\n",
       "      <td>13</td>\n",
       "      <td>2</td>\n",
       "      <td>3</td>\n",
       "      <td>0</td>\n",
       "      <td>4</td>\n",
       "      <td>1</td>\n",
       "      <td>0</td>\n",
       "      <td>0</td>\n",
       "      <td>60</td>\n",
       "      <td>38</td>\n",
       "      <td>1</td>\n",
       "    </tr>\n",
       "  </tbody>\n",
       "</table>\n",
       "<p>45221 rows × 14 columns</p>\n",
       "</div>"
      ],
      "text/plain": [
       "       age  workclass  education  education-num  marital-status  occupation  \\\n",
       "0       39          5          9             13               4           0   \n",
       "1       35          4          9             13               2           3   \n",
       "2       38          2         11              9               0           5   \n",
       "3       53          2          1              7               2           5   \n",
       "4       28          2          9             13               2           9   \n",
       "...    ...        ...        ...            ...             ...         ...   \n",
       "16274   33          2          9             13               4           9   \n",
       "16275   39          2          9             13               0           9   \n",
       "16277   38          2          9             13               2           9   \n",
       "16278   44          2          9             13               0           0   \n",
       "16279   35          3          9             13               2           3   \n",
       "\n",
       "       relationship  race  sex  capital-gain  capital-loss  hours-per-week  \\\n",
       "0                 1     4    1          2174             0              40   \n",
       "1                 0     4    1             0             0              13   \n",
       "2                 1     4    1             0             0              40   \n",
       "3                 0     2    1             0             0              40   \n",
       "4                 5     2    0             0             0              40   \n",
       "...             ...   ...  ...           ...           ...             ...   \n",
       "16274             3     4    1             0             0              40   \n",
       "16275             1     4    0             0             0              36   \n",
       "16277             0     4    1             0             0              50   \n",
       "16278             3     1    1          5455             0              40   \n",
       "16279             0     4    1             0             0              60   \n",
       "\n",
       "       native-country  income  \n",
       "0                  38       0  \n",
       "1                  38       0  \n",
       "2                  38       0  \n",
       "3                  38       0  \n",
       "4                   4       0  \n",
       "...               ...     ...  \n",
       "16274              38       0  \n",
       "16275              38       0  \n",
       "16277              38       0  \n",
       "16278              38       0  \n",
       "16279              38       1  \n",
       "\n",
       "[45221 rows x 14 columns]"
      ]
     },
     "execution_count": 39,
     "metadata": {},
     "output_type": "execute_result"
    }
   ],
   "source": [
    "dataset"
   ]
  },
  {
   "cell_type": "markdown",
   "metadata": {},
   "source": [
    "# Question 1.B"
   ]
  },
  {
   "cell_type": "code",
   "execution_count": 40,
   "metadata": {},
   "outputs": [],
   "source": [
    "# 1.b) \tTrain each model using different ratios of the trainset and visualize the performance of models using accuracy \n",
    "#      (y -axis) in terms of different ratio of trainsets (x-axis). Elaborate on the insights"
   ]
  },
  {
   "cell_type": "code",
   "execution_count": 41,
   "metadata": {},
   "outputs": [],
   "source": [
    "# Testing of Model Accuracy on Different Ratio of train set as follows, \n",
    "#  1. 80: 20\n",
    "#  2. 70 : 30\n",
    "#  3. 60: 40"
   ]
  },
  {
   "cell_type": "markdown",
   "metadata": {},
   "source": [
    "# 1.b).1  Datset splitting on 80: 20"
   ]
  },
  {
   "cell_type": "code",
   "execution_count": 42,
   "metadata": {},
   "outputs": [],
   "source": [
    "from sklearn.model_selection import train_test_split, cross_val_score\n",
    "from sklearn.metrics import mean_absolute_error,r2_score,mean_squared_error\n",
    "from sklearn.preprocessing import MinMaxScaler\n",
    "from sklearn.metrics import confusion_matrix, accuracy_score, f1_score\n",
    "from sklearn.metrics import accuracy_score, classification_report, precision_score, recall_score, confusion_matrix, roc_auc_score"
   ]
  },
  {
   "cell_type": "code",
   "execution_count": 43,
   "metadata": {},
   "outputs": [],
   "source": [
    "# testing and training splitting "
   ]
  },
  {
   "cell_type": "code",
   "execution_count": 44,
   "metadata": {},
   "outputs": [],
   "source": [
    "x2= dataset[['age','workclass','education','education-num','marital-status','occupation','relationship','race','sex','capital-gain','capital-loss','hours-per-week','native-country']]\n",
    "y2= dataset['income']"
   ]
  },
  {
   "cell_type": "code",
   "execution_count": 45,
   "metadata": {},
   "outputs": [
    {
     "name": "stdout",
     "output_type": "stream",
     "text": [
      "X2-Train Shape:  (36176, 13) \n",
      "Y2-Train Shape(Dependent): (36176,)\n",
      "X2-Test Shape:  (9045, 13) \n",
      "Y2-Test Shape(Dependent): (9045,)\n"
     ]
    }
   ],
   "source": [
    "x2_train, x2_test, y2_train, y2_test = train_test_split(x2,y2,test_size=0.20, shuffle= True)\n",
    "print(\"X2-Train Shape: \", x2_train.shape,'\\n' \"Y2-Train Shape(Dependent):\", y2_train.shape)\n",
    "print(\"X2-Test Shape: \", x2_test.shape,'\\n' \"Y2-Test Shape(Dependent):\", y2_test.shape)"
   ]
  },
  {
   "cell_type": "code",
   "execution_count": 46,
   "metadata": {},
   "outputs": [],
   "source": [
    "from sklearn.ensemble import RandomForestClassifier # Random Forest Classification Import Statement\n",
    "from sklearn.ensemble import AdaBoostClassifier # AdaBoost Classification Import Statement\n",
    "from sklearn.naive_bayes import MultinomialNB # NaiveBayes Multinomial Import Statement"
   ]
  },
  {
   "cell_type": "code",
   "execution_count": 47,
   "metadata": {},
   "outputs": [
    {
     "name": "stdout",
     "output_type": "stream",
     "text": [
      "####  Random Forest #####\n",
      "              precision    recall  f1-score   support\n",
      "\n",
      "           0       0.88      0.92      0.90      6770\n",
      "           1       0.72      0.63      0.67      2275\n",
      "\n",
      "    accuracy                           0.84      9045\n",
      "   macro avg       0.80      0.77      0.78      9045\n",
      "weighted avg       0.84      0.84      0.84      9045\n",
      "\n",
      "####  AdaBoost #####\n",
      "              precision    recall  f1-score   support\n",
      "\n",
      "           0       0.88      0.94      0.91      6770\n",
      "           1       0.77      0.60      0.68      2275\n",
      "\n",
      "    accuracy                           0.86      9045\n",
      "   macro avg       0.82      0.77      0.79      9045\n",
      "weighted avg       0.85      0.86      0.85      9045\n",
      "\n",
      "####  Naive Bayes #####\n",
      "              precision    recall  f1-score   support\n",
      "\n",
      "           0       0.78      0.96      0.86      6770\n",
      "           1       0.62      0.21      0.31      2275\n",
      "\n",
      "    accuracy                           0.77      9045\n",
      "   macro avg       0.70      0.58      0.59      9045\n",
      "weighted avg       0.74      0.77      0.72      9045\n",
      "\n"
     ]
    },
    {
     "data": {
      "text/html": [
       "<div>\n",
       "<style scoped>\n",
       "    .dataframe tbody tr th:only-of-type {\n",
       "        vertical-align: middle;\n",
       "    }\n",
       "\n",
       "    .dataframe tbody tr th {\n",
       "        vertical-align: top;\n",
       "    }\n",
       "\n",
       "    .dataframe thead th {\n",
       "        text-align: right;\n",
       "    }\n",
       "</style>\n",
       "<table border=\"1\" class=\"dataframe\">\n",
       "  <thead>\n",
       "    <tr style=\"text-align: right;\">\n",
       "      <th></th>\n",
       "      <th>0</th>\n",
       "      <th>1</th>\n",
       "    </tr>\n",
       "  </thead>\n",
       "  <tbody>\n",
       "    <tr>\n",
       "      <th>0</th>\n",
       "      <td>6482</td>\n",
       "      <td>288</td>\n",
       "    </tr>\n",
       "    <tr>\n",
       "      <th>1</th>\n",
       "      <td>1796</td>\n",
       "      <td>479</td>\n",
       "    </tr>\n",
       "  </tbody>\n",
       "</table>\n",
       "</div>"
      ],
      "text/plain": [
       "      0    1\n",
       "0  6482  288\n",
       "1  1796  479"
      ]
     },
     "execution_count": 47,
     "metadata": {},
     "output_type": "execute_result"
    }
   ],
   "source": [
    "######  Random Forest Classifier  ####### \n",
    "\n",
    "print(\"####  Random Forest #####\")\n",
    "rfc = RandomForestClassifier(n_estimators=250)\n",
    "\n",
    "rfc.fit(x2_train, y2_train)\n",
    "pred_rfc2 = rfc.predict(x2_test)\n",
    "print(classification_report(y2_test, pred_rfc2))\n",
    "\n",
    "######  AdaBoost ####### \n",
    "\n",
    "print(\"####  AdaBoost #####\")\n",
    "adboost = AdaBoostClassifier(n_estimators =50, random_state=1)\n",
    "adboost.fit(x2_train, y2_train)\n",
    "y2_pred_adboost = adboost.predict(x2_test)\n",
    "print(classification_report(y2_test, y2_pred_adboost))\n",
    "\n",
    "####  Naive Bayes #####\n",
    "\n",
    "print(\"####  Naive Bayes #####\")\n",
    "model = MultinomialNB(alpha=0.005)\n",
    "model.fit(x2_train, y2_train)\n",
    "Nb_y2_pred = model.predict(x2_test)\n",
    "print(classification_report(y2_test, Nb_y2_pred))\n",
    "pd.DataFrame(classification_report(y2_test, Nb_y2_pred, output_dict=True)).T\n",
    "cm = pd.DataFrame(confusion_matrix(y2_test, Nb_y2_pred))\n",
    "cm"
   ]
  },
  {
   "cell_type": "code",
   "execution_count": 181,
   "metadata": {},
   "outputs": [],
   "source": [
    "final2 = pd.DataFrame({'MODELS': [\"RANDOM FOREST\",\"AdaBoost-Classification\", \"NaiveBayes\"],\n",
    "'ACCURACY OF 80/20': [accuracy_score(y2_test,pred_rfc2),accuracy_score(y2_test, y2_pred_adboost), accuracy_score(y2_test, Nb_y2_pred)],\n",
    " })"
   ]
  },
  {
   "cell_type": "code",
   "execution_count": 183,
   "metadata": {},
   "outputs": [
    {
     "data": {
      "text/html": [
       "<div>\n",
       "<style scoped>\n",
       "    .dataframe tbody tr th:only-of-type {\n",
       "        vertical-align: middle;\n",
       "    }\n",
       "\n",
       "    .dataframe tbody tr th {\n",
       "        vertical-align: top;\n",
       "    }\n",
       "\n",
       "    .dataframe thead th {\n",
       "        text-align: right;\n",
       "    }\n",
       "</style>\n",
       "<table border=\"1\" class=\"dataframe\">\n",
       "  <thead>\n",
       "    <tr style=\"text-align: right;\">\n",
       "      <th></th>\n",
       "      <th>MODELS</th>\n",
       "    </tr>\n",
       "    <tr>\n",
       "      <th>ACCURACY OF 80/20</th>\n",
       "      <th></th>\n",
       "    </tr>\n",
       "  </thead>\n",
       "  <tbody>\n",
       "    <tr>\n",
       "      <th>0.855058</th>\n",
       "      <td>AdaBoost-Classification</td>\n",
       "    </tr>\n",
       "    <tr>\n",
       "      <th>0.844776</th>\n",
       "      <td>RANDOM FOREST</td>\n",
       "    </tr>\n",
       "    <tr>\n",
       "      <th>0.769596</th>\n",
       "      <td>NaiveBayes</td>\n",
       "    </tr>\n",
       "  </tbody>\n",
       "</table>\n",
       "</div>"
      ],
      "text/plain": [
       "                                    MODELS\n",
       "ACCURACY OF 80/20                         \n",
       "0.855058           AdaBoost-Classification\n",
       "0.844776                     RANDOM FOREST\n",
       "0.769596                        NaiveBayes"
      ]
     },
     "execution_count": 183,
     "metadata": {},
     "output_type": "execute_result"
    }
   ],
   "source": [
    "end21= final2.sort_values(by='ACCURACY OF 80/20', ascending=False)\n",
    "end_all11 = end21.set_index('ACCURACY OF 80/20')\n",
    "end_all11\n"
   ]
  },
  {
   "cell_type": "markdown",
   "metadata": {},
   "source": [
    "# 1.b).2  Datset splitting on 70: 30"
   ]
  },
  {
   "cell_type": "code",
   "execution_count": 50,
   "metadata": {},
   "outputs": [],
   "source": [
    "x3= dataset[['age','workclass','education','education-num','marital-status','occupation','relationship','race','sex','capital-gain','capital-loss','hours-per-week','native-country']]\n",
    "y3= dataset['income']"
   ]
  },
  {
   "cell_type": "code",
   "execution_count": 51,
   "metadata": {},
   "outputs": [
    {
     "name": "stdout",
     "output_type": "stream",
     "text": [
      "X3-Train Shape:  (36176, 13) \n",
      "Y3-Train Shape(Dependent): (36176,)\n",
      "X3-Test Shape:  (9045, 13) \n",
      "Y3-Test Shape(Dependent): (9045,)\n"
     ]
    }
   ],
   "source": [
    "x3_train, x3_test, y3_train, y3_test = train_test_split(x3,y3,test_size=0.20, shuffle= True)\n",
    "print(\"X3-Train Shape: \", x3_train.shape,'\\n' \"Y3-Train Shape(Dependent):\", y3_train.shape)\n",
    "print(\"X3-Test Shape: \", x3_test.shape,'\\n' \"Y3-Test Shape(Dependent):\", y3_test.shape)"
   ]
  },
  {
   "cell_type": "code",
   "execution_count": 52,
   "metadata": {},
   "outputs": [
    {
     "name": "stdout",
     "output_type": "stream",
     "text": [
      "####  Random Forest #####\n",
      "              precision    recall  f1-score   support\n",
      "\n",
      "           0       0.88      0.92      0.90      6801\n",
      "           1       0.72      0.63      0.67      2244\n",
      "\n",
      "    accuracy                           0.85      9045\n",
      "   macro avg       0.80      0.78      0.79      9045\n",
      "weighted avg       0.84      0.85      0.84      9045\n",
      "\n",
      "####  AdaBoost #####\n",
      "              precision    recall  f1-score   support\n",
      "\n",
      "           0       0.87      0.94      0.91      6801\n",
      "           1       0.77      0.58      0.66      2244\n",
      "\n",
      "    accuracy                           0.85      9045\n",
      "   macro avg       0.82      0.76      0.78      9045\n",
      "weighted avg       0.85      0.85      0.85      9045\n",
      "\n",
      "####  Naive Bayes #####\n",
      "              precision    recall  f1-score   support\n",
      "\n",
      "           0       0.78      0.96      0.86      6801\n",
      "           1       0.61      0.20      0.30      2244\n",
      "\n",
      "    accuracy                           0.77      9045\n",
      "   macro avg       0.70      0.58      0.58      9045\n",
      "weighted avg       0.74      0.77      0.72      9045\n",
      "\n"
     ]
    },
    {
     "data": {
      "text/html": [
       "<div>\n",
       "<style scoped>\n",
       "    .dataframe tbody tr th:only-of-type {\n",
       "        vertical-align: middle;\n",
       "    }\n",
       "\n",
       "    .dataframe tbody tr th {\n",
       "        vertical-align: top;\n",
       "    }\n",
       "\n",
       "    .dataframe thead th {\n",
       "        text-align: right;\n",
       "    }\n",
       "</style>\n",
       "<table border=\"1\" class=\"dataframe\">\n",
       "  <thead>\n",
       "    <tr style=\"text-align: right;\">\n",
       "      <th></th>\n",
       "      <th>0</th>\n",
       "      <th>1</th>\n",
       "    </tr>\n",
       "  </thead>\n",
       "  <tbody>\n",
       "    <tr>\n",
       "      <th>0</th>\n",
       "      <td>6521</td>\n",
       "      <td>280</td>\n",
       "    </tr>\n",
       "    <tr>\n",
       "      <th>1</th>\n",
       "      <td>1799</td>\n",
       "      <td>445</td>\n",
       "    </tr>\n",
       "  </tbody>\n",
       "</table>\n",
       "</div>"
      ],
      "text/plain": [
       "      0    1\n",
       "0  6521  280\n",
       "1  1799  445"
      ]
     },
     "execution_count": 52,
     "metadata": {},
     "output_type": "execute_result"
    }
   ],
   "source": [
    "######  Random Forest Classifier  ####### \n",
    "print(\"####  Random Forest #####\")\n",
    "rfc = RandomForestClassifier(n_estimators=250)\n",
    "rfc.fit(x3_train, y3_train)\n",
    "pred_rfc3 = rfc.predict(x3_test)\n",
    "print(classification_report(y3_test, pred_rfc3))\n",
    "\n",
    "######  AdaBoost ####### \n",
    "print(\"####  AdaBoost #####\")\n",
    "adboost = AdaBoostClassifier(n_estimators =50, random_state=1)\n",
    "adboost.fit(x3_train, y3_train)\n",
    "y3_pred_adboost = adboost.predict(x3_test)\n",
    "print(classification_report(y3_test, y3_pred_adboost))\n",
    "\n",
    "####  Naive Bayes #####\n",
    "print(\"####  Naive Bayes #####\")\n",
    "model = MultinomialNB(alpha=0.005)\n",
    "model.fit(x3_train, y3_train)\n",
    "Nb_y3_pred = model.predict(x3_test)\n",
    "print(classification_report(y3_test, Nb_y3_pred))\n",
    "pd.DataFrame(classification_report(y3_test, Nb_y3_pred, output_dict=True)).T\n",
    "cm = pd.DataFrame(confusion_matrix(y3_test, Nb_y3_pred))\n",
    "cm"
   ]
  },
  {
   "cell_type": "code",
   "execution_count": 184,
   "metadata": {},
   "outputs": [],
   "source": [
    "final3 = pd.DataFrame({'MODELS': [\"RANDOM FOREST\",\"AdaBoost-Classification\", \"NaiveBayes\"],\n",
    "'ACCURACY OF 70/30': [accuracy_score(y3_test,pred_rfc3),accuracy_score(y3_test, y3_pred_adboost), accuracy_score(y3_test, Nb_y3_pred)],\n",
    " })"
   ]
  },
  {
   "cell_type": "code",
   "execution_count": 185,
   "metadata": {},
   "outputs": [
    {
     "data": {
      "text/html": [
       "<div>\n",
       "<style scoped>\n",
       "    .dataframe tbody tr th:only-of-type {\n",
       "        vertical-align: middle;\n",
       "    }\n",
       "\n",
       "    .dataframe tbody tr th {\n",
       "        vertical-align: top;\n",
       "    }\n",
       "\n",
       "    .dataframe thead th {\n",
       "        text-align: right;\n",
       "    }\n",
       "</style>\n",
       "<table border=\"1\" class=\"dataframe\">\n",
       "  <thead>\n",
       "    <tr style=\"text-align: right;\">\n",
       "      <th></th>\n",
       "      <th>MODELS</th>\n",
       "    </tr>\n",
       "    <tr>\n",
       "      <th>ACCURACY OF 70/30</th>\n",
       "      <th></th>\n",
       "    </tr>\n",
       "  </thead>\n",
       "  <tbody>\n",
       "    <tr>\n",
       "      <th>0.852847</th>\n",
       "      <td>AdaBoost-Classification</td>\n",
       "    </tr>\n",
       "    <tr>\n",
       "      <th>0.847098</th>\n",
       "      <td>RANDOM FOREST</td>\n",
       "    </tr>\n",
       "    <tr>\n",
       "      <th>0.770149</th>\n",
       "      <td>NaiveBayes</td>\n",
       "    </tr>\n",
       "  </tbody>\n",
       "</table>\n",
       "</div>"
      ],
      "text/plain": [
       "                                    MODELS\n",
       "ACCURACY OF 70/30                         \n",
       "0.852847           AdaBoost-Classification\n",
       "0.847098                     RANDOM FOREST\n",
       "0.770149                        NaiveBayes"
      ]
     },
     "execution_count": 185,
     "metadata": {},
     "output_type": "execute_result"
    }
   ],
   "source": [
    "end3= final3.sort_values(by='ACCURACY OF 70/30', ascending=False)\n",
    "end_all2 = end3.set_index('ACCURACY OF 70/30')\n",
    "end_all2"
   ]
  },
  {
   "cell_type": "markdown",
   "metadata": {},
   "source": [
    "# 1.b).3  Datset splitting on 60: 40"
   ]
  },
  {
   "cell_type": "code",
   "execution_count": 55,
   "metadata": {},
   "outputs": [],
   "source": [
    "x4= dataset[['age','workclass','education','education-num','marital-status','occupation','relationship','race','sex','capital-gain','capital-loss','hours-per-week','native-country']]\n",
    "y4= dataset['income']"
   ]
  },
  {
   "cell_type": "code",
   "execution_count": 56,
   "metadata": {},
   "outputs": [
    {
     "name": "stdout",
     "output_type": "stream",
     "text": [
      "X4-Train Shape:  (36176, 13) \n",
      "Y4-Train Shape(Dependent): (36176,)\n",
      "X4-Test Shape:  (9045, 13) \n",
      "Y4-Test Shape(Dependent): (9045,)\n"
     ]
    }
   ],
   "source": [
    "x4_train, x4_test, y4_train, y4_test = train_test_split(x4,y4,test_size=0.20, shuffle= True)\n",
    "print(\"X4-Train Shape: \", x4_train.shape,'\\n' \"Y4-Train Shape(Dependent):\", y4_train.shape)\n",
    "print(\"X4-Test Shape: \", x4_test.shape,'\\n' \"Y4-Test Shape(Dependent):\", y4_test.shape)"
   ]
  },
  {
   "cell_type": "code",
   "execution_count": 165,
   "metadata": {},
   "outputs": [
    {
     "name": "stdout",
     "output_type": "stream",
     "text": [
      "####  Random Forest #####\n",
      "              precision    recall  f1-score   support\n",
      "\n",
      "           0       0.87      0.92      0.90      6706\n",
      "           1       0.73      0.61      0.67      2339\n",
      "\n",
      "    accuracy                           0.84      9045\n",
      "   macro avg       0.80      0.77      0.78      9045\n",
      "weighted avg       0.84      0.84      0.84      9045\n",
      "\n",
      "####  AdaBoost #####\n",
      "              precision    recall  f1-score   support\n",
      "\n",
      "           0       0.87      0.94      0.91      6706\n",
      "           1       0.78      0.60      0.68      2339\n",
      "\n",
      "    accuracy                           0.85      9045\n",
      "   macro avg       0.83      0.77      0.79      9045\n",
      "weighted avg       0.85      0.85      0.85      9045\n",
      "\n",
      "####  Naive Bayes #####\n",
      "              precision    recall  f1-score   support\n",
      "\n",
      "           0       0.78      0.96      0.86      6706\n",
      "           1       0.66      0.22      0.33      2339\n",
      "\n",
      "    accuracy                           0.77      9045\n",
      "   macro avg       0.72      0.59      0.59      9045\n",
      "weighted avg       0.75      0.77      0.72      9045\n",
      "\n"
     ]
    },
    {
     "data": {
      "text/html": [
       "<div>\n",
       "<style scoped>\n",
       "    .dataframe tbody tr th:only-of-type {\n",
       "        vertical-align: middle;\n",
       "    }\n",
       "\n",
       "    .dataframe tbody tr th {\n",
       "        vertical-align: top;\n",
       "    }\n",
       "\n",
       "    .dataframe thead th {\n",
       "        text-align: right;\n",
       "    }\n",
       "</style>\n",
       "<table border=\"1\" class=\"dataframe\">\n",
       "  <thead>\n",
       "    <tr style=\"text-align: right;\">\n",
       "      <th></th>\n",
       "      <th>0</th>\n",
       "      <th>1</th>\n",
       "    </tr>\n",
       "  </thead>\n",
       "  <tbody>\n",
       "    <tr>\n",
       "      <th>0</th>\n",
       "      <td>6442</td>\n",
       "      <td>264</td>\n",
       "    </tr>\n",
       "    <tr>\n",
       "      <th>1</th>\n",
       "      <td>1830</td>\n",
       "      <td>509</td>\n",
       "    </tr>\n",
       "  </tbody>\n",
       "</table>\n",
       "</div>"
      ],
      "text/plain": [
       "      0    1\n",
       "0  6442  264\n",
       "1  1830  509"
      ]
     },
     "execution_count": 165,
     "metadata": {},
     "output_type": "execute_result"
    }
   ],
   "source": [
    "######  Random Forest Classifier  ####### \n",
    "print(\"####  Random Forest #####\")\n",
    "rfc = RandomForestClassifier(n_estimators=250)\n",
    "rfc.fit(x4_train, y4_train)\n",
    "pred_rfc4 = rfc.predict(x4_test)\n",
    "print(classification_report(y4_test, pred_rfc4))\n",
    "\n",
    "######  AdaBoost ####### \n",
    "print(\"####  AdaBoost #####\")\n",
    "adboost = AdaBoostClassifier(n_estimators =50, random_state=1)\n",
    "adboost.fit(x4_train, y4_train)\n",
    "y4_pred_adboost = adboost.predict(x4_test)\n",
    "print(classification_report(y4_test, y4_pred_adboost))\n",
    "\n",
    "####  Naive Bayes #####\n",
    "print(\"####  Naive Bayes #####\")\n",
    "model = MultinomialNB(alpha=0.005)\n",
    "model.fit(x4_train, y4_train)\n",
    "Nb_y4_pred = model.predict(x4_test)\n",
    "print(classification_report(y4_test, Nb_y4_pred))\n",
    "pd.DataFrame(classification_report(y4_test, Nb_y4_pred, output_dict=True)).T\n",
    "cm = pd.DataFrame(confusion_matrix(y4_test, Nb_y4_pred))\n",
    "cm"
   ]
  },
  {
   "cell_type": "code",
   "execution_count": 186,
   "metadata": {},
   "outputs": [],
   "source": [
    "final4 = pd.DataFrame({'MODELS': [\"RANDOM FOREST\",\"AdaBoost-Classification\", \"NaiveBayes\"],\n",
    "'ACCURACY OF 60/40': [accuracy_score(y4_test,pred_rfc4),accuracy_score(y4_test, y4_pred_adboost), accuracy_score(y4_test, Nb_y4_pred)],\n",
    "})\n"
   ]
  },
  {
   "cell_type": "code",
   "execution_count": 187,
   "metadata": {},
   "outputs": [
    {
     "data": {
      "text/html": [
       "<div>\n",
       "<style scoped>\n",
       "    .dataframe tbody tr th:only-of-type {\n",
       "        vertical-align: middle;\n",
       "    }\n",
       "\n",
       "    .dataframe tbody tr th {\n",
       "        vertical-align: top;\n",
       "    }\n",
       "\n",
       "    .dataframe thead th {\n",
       "        text-align: right;\n",
       "    }\n",
       "</style>\n",
       "<table border=\"1\" class=\"dataframe\">\n",
       "  <thead>\n",
       "    <tr style=\"text-align: right;\">\n",
       "      <th></th>\n",
       "      <th>MODELS</th>\n",
       "    </tr>\n",
       "    <tr>\n",
       "      <th>ACCURACY OF 60/40</th>\n",
       "      <th></th>\n",
       "    </tr>\n",
       "  </thead>\n",
       "  <tbody>\n",
       "    <tr>\n",
       "      <th>0.853621</th>\n",
       "      <td>AdaBoost-Classification</td>\n",
       "    </tr>\n",
       "    <tr>\n",
       "      <th>0.841902</th>\n",
       "      <td>RANDOM FOREST</td>\n",
       "    </tr>\n",
       "    <tr>\n",
       "      <th>0.768491</th>\n",
       "      <td>NaiveBayes</td>\n",
       "    </tr>\n",
       "  </tbody>\n",
       "</table>\n",
       "</div>"
      ],
      "text/plain": [
       "                                    MODELS\n",
       "ACCURACY OF 60/40                         \n",
       "0.853621           AdaBoost-Classification\n",
       "0.841902                     RANDOM FOREST\n",
       "0.768491                        NaiveBayes"
      ]
     },
     "execution_count": 187,
     "metadata": {},
     "output_type": "execute_result"
    }
   ],
   "source": [
    "end2= final4.sort_values(by='ACCURACY OF 60/40', ascending=False)\n",
    "end_all1 = end2.set_index('ACCURACY OF 60/40')\n",
    "end_all1"
   ]
  },
  {
   "cell_type": "code",
   "execution_count": 63,
   "metadata": {},
   "outputs": [],
   "source": [
    "# 2.  Consider a continuous attribute in your dataset as the target variable, \n",
    "#     perform regression analysis using different ensemble methods, visualize and interpret the results. "
   ]
  },
  {
   "cell_type": "markdown",
   "metadata": {},
   "source": [
    "# Question 1-C"
   ]
  },
  {
   "cell_type": "code",
   "execution_count": 64,
   "metadata": {},
   "outputs": [],
   "source": [
    "#  visualize the performance of models using accuracy (y -axis) in terms of different ratio of trainsets (x-axis). \n",
    "#  Elaborate on the insights.                               "
   ]
  },
  {
   "cell_type": "code",
   "execution_count": 65,
   "metadata": {},
   "outputs": [],
   "source": [
    "# 1.c)  Apply ensemble methods (bagging, boosting, stacking) on the base models, \n",
    "#     evaluate the performance of each ensemble technique in 100 Monte Carlo runs and visualize the performance of models \n",
    "#     using Boxplot.                                                                                              "
   ]
  },
  {
   "cell_type": "markdown",
   "metadata": {},
   "source": [
    "# Ensemble : Bagging, Boosting, Stacking"
   ]
  },
  {
   "cell_type": "code",
   "execution_count": 66,
   "metadata": {},
   "outputs": [],
   "source": [
    "x= dataset[['age','workclass','education','education-num','marital-status','occupation','relationship','race','sex','capital-gain','capital-loss','hours-per-week','native-country']]\n",
    "y= dataset['income']"
   ]
  },
  {
   "cell_type": "code",
   "execution_count": 67,
   "metadata": {},
   "outputs": [
    {
     "name": "stdout",
     "output_type": "stream",
     "text": [
      "X-Train Shape:  (29393, 13) \n",
      "Y-Train Shape(Dependent): (29393,)\n",
      "X-Test Shape:  (15828, 13) \n",
      "Y-Test Shape(Dependent): (15828,)\n"
     ]
    }
   ],
   "source": [
    "x_train, x_test, y_train, y_test = train_test_split(x,y,test_size=0.35, shuffle= True)\n",
    "print(\"X-Train Shape: \", x_train.shape,'\\n' \"Y-Train Shape(Dependent):\", y_train.shape)\n",
    "print(\"X-Test Shape: \", x_test.shape,'\\n' \"Y-Test Shape(Dependent):\", y_test.shape)"
   ]
  },
  {
   "cell_type": "markdown",
   "metadata": {},
   "source": [
    "# Random Forest "
   ]
  },
  {
   "cell_type": "code",
   "execution_count": 68,
   "metadata": {},
   "outputs": [
    {
     "name": "stdout",
     "output_type": "stream",
     "text": [
      "              precision    recall  f1-score   support\n",
      "\n",
      "           0       0.88      0.91      0.90     11903\n",
      "           1       0.70      0.62      0.66      3925\n",
      "\n",
      "    accuracy                           0.84     15828\n",
      "   macro avg       0.79      0.77      0.78     15828\n",
      "weighted avg       0.84      0.84      0.84     15828\n",
      "\n"
     ]
    }
   ],
   "source": [
    "rfc = RandomForestClassifier(n_estimators=250)\n",
    "rfc.fit(x_train, y_train)\n",
    "pred_rfc = rfc.predict(x_test)\n",
    "print(classification_report(y_test, pred_rfc))"
   ]
  },
  {
   "cell_type": "code",
   "execution_count": 69,
   "metadata": {},
   "outputs": [
    {
     "name": "stdout",
     "output_type": "stream",
     "text": [
      "Root Mean Square Error: 0.39893401046487004\n",
      "Mean Square Error: 0.15914834470558503\n",
      "R-squared Value: 0.1465892396660694\n"
     ]
    }
   ],
   "source": [
    "# Model Evaluation\n",
    "\n",
    "rmse = np.sqrt(mean_squared_error(y_test,pred_rfc ))\n",
    "mse= mean_squared_error(y_test,pred_rfc)\n",
    "r2 = r2_score(y_test,pred_rfc)\n",
    "\n",
    "print(\"Root Mean Square Error:\", rmse)\n",
    "print(\"Mean Square Error:\", mse)\n",
    "print(\"R-squared Value:\",r2)"
   ]
  },
  {
   "cell_type": "code",
   "execution_count": 70,
   "metadata": {},
   "outputs": [
    {
     "name": "stdout",
     "output_type": "stream",
     "text": [
      "[[10883  1020]\n",
      " [ 1499  2426]]\n"
     ]
    },
    {
     "data": {
      "image/png": "[encoded data removed]",
      "text/plain": [
       "<Figure size 432x288 with 1 Axes>"
      ]
     },
     "metadata": {
      "needs_background": "light"
     },
     "output_type": "display_data"
    }
   ],
   "source": [
    "#Confusion Matrix\n",
    "cm = confusion_matrix(y_test,pred_rfc)\n",
    "print(cm)\n",
    "\n",
    "sns.heatmap(cm,cbar=False,annot=True,cmap='Blues',fmt=\"d\")\n",
    "plt.xlabel(\"pred_rfc\")\n",
    "plt.ylabel(\"y_test\")\n",
    "plt.title(\"Confusion Matrix: Random Forest Classifier\")\n",
    "plt.show()"
   ]
  },
  {
   "cell_type": "code",
   "execution_count": 71,
   "metadata": {},
   "outputs": [
    {
     "name": "stdout",
     "output_type": "stream",
     "text": [
      "Random Forest Accuracy:  0.840851655294415\n",
      "              precision    recall  f1-score   support\n",
      "\n",
      "           0       0.88      0.91      0.90     11903\n",
      "           1       0.70      0.62      0.66      3925\n",
      "\n",
      "    accuracy                           0.84     15828\n",
      "   macro avg       0.79      0.77      0.78     15828\n",
      "weighted avg       0.84      0.84      0.84     15828\n",
      "\n"
     ]
    }
   ],
   "source": [
    "print(\"Random Forest Accuracy: \",accuracy_score(y_test,pred_rfc))\n",
    "print(classification_report(y_test, pred_rfc))"
   ]
  },
  {
   "cell_type": "markdown",
   "metadata": {},
   "source": [
    "# 100 Monte Corlo Runs for Random Forest"
   ]
  },
  {
   "cell_type": "code",
   "execution_count": 72,
   "metadata": {},
   "outputs": [
    {
     "name": "stdout",
     "output_type": "stream",
     "text": [
      "Accuracy using 100 MC run: 0.8386511245893353\n"
     ]
    }
   ],
   "source": [
    "import warnings\n",
    "warnings.simplefilter('ignore')\n",
    "\n",
    "acc2 = []\n",
    "for i in range(100):\n",
    "    rfc = RandomForestClassifier(n_estimators=20)\n",
    "    rfc.fit(x_train, y_train)\n",
    "    pred_rfc = rfc.predict(x_test)\n",
    "    pred2 = [] \n",
    "    for x in pred_rfc: \n",
    "        if x > 0.5:\n",
    "            pred2.append(1)\n",
    "        else:\n",
    "            pred2.append(0) \n",
    "    pred2\n",
    "    c=accuracy_score(y_test,pred_rfc)\n",
    "    acc2.append(c)\n",
    "print(\"Accuracy using 100 MC run:\", np.mean(acc2)) "
   ]
  },
  {
   "cell_type": "code",
   "execution_count": 73,
   "metadata": {},
   "outputs": [
    {
     "data": {
      "text/html": [
       "<div>\n",
       "<style scoped>\n",
       "    .dataframe tbody tr th:only-of-type {\n",
       "        vertical-align: middle;\n",
       "    }\n",
       "\n",
       "    .dataframe tbody tr th {\n",
       "        vertical-align: top;\n",
       "    }\n",
       "\n",
       "    .dataframe thead th {\n",
       "        text-align: right;\n",
       "    }\n",
       "</style>\n",
       "<table border=\"1\" class=\"dataframe\">\n",
       "  <thead>\n",
       "    <tr style=\"text-align: right;\">\n",
       "      <th></th>\n",
       "      <th>MODEL</th>\n",
       "      <th>ACCURACY</th>\n",
       "    </tr>\n",
       "  </thead>\n",
       "  <tbody>\n",
       "    <tr>\n",
       "      <th>0</th>\n",
       "      <td>Random Forest 100 Monte Carlo Runs</td>\n",
       "      <td>83.865112</td>\n",
       "    </tr>\n",
       "  </tbody>\n",
       "</table>\n",
       "</div>"
      ],
      "text/plain": [
       "                                 MODEL   ACCURACY\n",
       "0   Random Forest 100 Monte Carlo Runs  83.865112"
      ]
     },
     "execution_count": 73,
     "metadata": {},
     "output_type": "execute_result"
    }
   ],
   "source": [
    "model2= pd.DataFrame({'MODEL':[\" Random Forest 100 Monte Carlo Runs\"],'ACCURACY':[np.mean(acc2)*100] })\n",
    "model2\n"
   ]
  },
  {
   "cell_type": "code",
   "execution_count": 74,
   "metadata": {},
   "outputs": [
    {
     "data": {
      "image/png": "[encoded data removed]",
      "text/plain": [
       "<Figure size 432x288 with 1 Axes>"
      ]
     },
     "metadata": {},
     "output_type": "display_data"
    }
   ],
   "source": [
    "# box plot for # 100 Monte Carlo Runs for RANDOM FOREST mean of Accuracy :\n",
    "sns.set_style('whitegrid')\n",
    "\n",
    "ax= sns.boxplot(x=\"MODEL\",y=(\"ACCURACY\"),data=model2)\n",
    "ax = sns.stripplot(x=\"MODEL\", y=(\"ACCURACY\"),data=model2)\n",
    "plt.show(sns)"
   ]
  },
  {
   "cell_type": "markdown",
   "metadata": {},
   "source": [
    "# Adaptive Boosting"
   ]
  },
  {
   "cell_type": "code",
   "execution_count": null,
   "metadata": {},
   "outputs": [],
   "source": [
    "\n",
    "# In our case, the final goal is to predict if the individual will have salary above 50K or not. \n",
    "# AdaBoost, as one of the boosting algorithm, it focuses on classification problems and aims \n",
    "# to convert a set of weak classifiers into a strong one. "
   ]
  },
  {
   "cell_type": "code",
   "execution_count": 75,
   "metadata": {},
   "outputs": [
    {
     "name": "stdout",
     "output_type": "stream",
     "text": [
      "              precision    recall  f1-score   support\n",
      "\n",
      "           0       0.88      0.94      0.91     11903\n",
      "           1       0.76      0.60      0.67      3925\n",
      "\n",
      "    accuracy                           0.85     15828\n",
      "   macro avg       0.82      0.77      0.79     15828\n",
      "weighted avg       0.85      0.85      0.85     15828\n",
      "\n"
     ]
    }
   ],
   "source": [
    "#AdaBoost \n",
    "from sklearn.ensemble import AdaBoostClassifier\n",
    "adboost = AdaBoostClassifier(n_estimators =50, random_state=1)\n",
    "adboost.fit(x_train, y_train)\n",
    "y_pred_adboost = adboost.predict(x_test)\n",
    "print(classification_report(y_test, y_pred_adboost))"
   ]
  },
  {
   "cell_type": "code",
   "execution_count": 76,
   "metadata": {},
   "outputs": [
    {
     "name": "stdout",
     "output_type": "stream",
     "text": [
      "Root Mean Square Error: 0.3834291888811085\n",
      "Mean Square Error: 0.14701794288602477\n",
      "R-squared Value: 0.2116368244156187\n"
     ]
    }
   ],
   "source": [
    "# Model Evaluation\n",
    "rmse = np.sqrt(mean_squared_error(y_test,y_pred_adboost ))\n",
    "mse= mean_squared_error(y_test,y_pred_adboost)\n",
    "r2 = r2_score(y_test,y_pred_adboost)\n",
    "\n",
    "print(\"Root Mean Square Error:\", rmse)\n",
    "print(\"Mean Square Error:\", mse)\n",
    "print(\"R-squared Value:\",r2)"
   ]
  },
  {
   "cell_type": "code",
   "execution_count": 77,
   "metadata": {},
   "outputs": [
    {
     "name": "stdout",
     "output_type": "stream",
     "text": [
      "Accuarcy : 0.8529820571139752\n"
     ]
    }
   ],
   "source": [
    "print(\"Accuarcy :\", accuracy_score(y_test, y_pred_adboost))"
   ]
  },
  {
   "cell_type": "code",
   "execution_count": 78,
   "metadata": {},
   "outputs": [
    {
     "name": "stdout",
     "output_type": "stream",
     "text": [
      "       0     1\n",
      "0  11137   766\n",
      "1   1561  2364\n"
     ]
    },
    {
     "data": {
      "image/png": "[encoded data removed]",
      "text/plain": [
       "<Figure size 432x288 with 1 Axes>"
      ]
     },
     "metadata": {},
     "output_type": "display_data"
    }
   ],
   "source": [
    "cm = pd.DataFrame(confusion_matrix(y_test,y_pred_adboost))\n",
    "print(cm)\n",
    "\n",
    "sns.heatmap(cm,cbar=False,annot=True,cmap='Blues',fmt=\"d\")\n",
    "plt.xlabel(\"y_pred_adboost\")\n",
    "plt.ylabel(\"y_test\")\n",
    "plt.title(\"Confusion Matrix: AdaBoost\")\n",
    "plt.show()"
   ]
  },
  {
   "cell_type": "markdown",
   "metadata": {},
   "source": [
    "# 100 Monte Carlo Runs for Ada Boost"
   ]
  },
  {
   "cell_type": "code",
   "execution_count": 79,
   "metadata": {},
   "outputs": [],
   "source": [
    "#  Monte Carlo Simulators are used to model the probability of different outcomes in a process that cannot easily be \n",
    "#  predicted due to interventiion of random variables , It is a Technique used to uindestand the impact of risk \n",
    "#  and uncertanity in prediction and forecasting models."
   ]
  },
  {
   "cell_type": "code",
   "execution_count": 80,
   "metadata": {},
   "outputs": [
    {
     "name": "stdout",
     "output_type": "stream",
     "text": [
      "Accuracy using 100 MC run: 0.852982057113975\n"
     ]
    }
   ],
   "source": [
    "acc = []\n",
    "for i in range(100):\n",
    "  adboost = AdaBoostClassifier(n_estimators =50, random_state=1)\n",
    "  adboost.fit(x_train, y_train)\n",
    "  y_pred_adboost = adboost.predict(x_test) \n",
    "  pred = [] \n",
    "  for x in y_pred_adboost:\n",
    "    if x > 0.5:\n",
    "      pred.append(1)\n",
    "    else:\n",
    "        pred.append(0) \n",
    "  pred\n",
    "  a=accuracy_score(y_test, y_pred_adboost)\n",
    "  acc.append(a)\n",
    "print(\"Accuracy using 100 MC run:\", np.mean(acc))   "
   ]
  },
  {
   "cell_type": "code",
   "execution_count": 81,
   "metadata": {},
   "outputs": [],
   "source": [
    "model= pd.DataFrame({'MODEL':[\"AdaBoost 100 Monte Carlo Runs\"],'ACCURACY':[np.mean(acc)*100] })\n"
   ]
  },
  {
   "cell_type": "code",
   "execution_count": 82,
   "metadata": {},
   "outputs": [
    {
     "data": {
      "text/html": [
       "<div>\n",
       "<style scoped>\n",
       "    .dataframe tbody tr th:only-of-type {\n",
       "        vertical-align: middle;\n",
       "    }\n",
       "\n",
       "    .dataframe tbody tr th {\n",
       "        vertical-align: top;\n",
       "    }\n",
       "\n",
       "    .dataframe thead th {\n",
       "        text-align: right;\n",
       "    }\n",
       "</style>\n",
       "<table border=\"1\" class=\"dataframe\">\n",
       "  <thead>\n",
       "    <tr style=\"text-align: right;\">\n",
       "      <th></th>\n",
       "      <th>MODEL</th>\n",
       "      <th>ACCURACY</th>\n",
       "    </tr>\n",
       "  </thead>\n",
       "  <tbody>\n",
       "    <tr>\n",
       "      <th>0</th>\n",
       "      <td>AdaBoost 100 Monte Carlo Runs</td>\n",
       "      <td>85.298206</td>\n",
       "    </tr>\n",
       "  </tbody>\n",
       "</table>\n",
       "</div>"
      ],
      "text/plain": [
       "                           MODEL   ACCURACY\n",
       "0  AdaBoost 100 Monte Carlo Runs  85.298206"
      ]
     },
     "execution_count": 82,
     "metadata": {},
     "output_type": "execute_result"
    }
   ],
   "source": [
    "model"
   ]
  },
  {
   "cell_type": "code",
   "execution_count": 83,
   "metadata": {},
   "outputs": [
    {
     "data": {
      "image/png": "[encoded data removed]",
      "text/plain": [
       "<Figure size 432x288 with 1 Axes>"
      ]
     },
     "metadata": {},
     "output_type": "display_data"
    }
   ],
   "source": [
    "# box plot for # 100 Monte Carlo Runs for Ada Boost mean of Accuracy :\n",
    "sns.set_style('whitegrid')\n",
    "\n",
    "ax= sns.boxplot(x=\"MODEL\",y=(\"ACCURACY\"),data=model)\n",
    "ax = sns.stripplot(x=\"MODEL\", y=(\"ACCURACY\"),data=model)\n",
    "plt.show(sns)"
   ]
  },
  {
   "cell_type": "markdown",
   "metadata": {},
   "source": [
    "# Naive Bayes"
   ]
  },
  {
   "cell_type": "code",
   "execution_count": 85,
   "metadata": {},
   "outputs": [],
   "source": [
    "from sklearn.ensemble import StackingClassifier"
   ]
  },
  {
   "cell_type": "code",
   "execution_count": 86,
   "metadata": {},
   "outputs": [],
   "source": [
    "from sklearn.naive_bayes import GaussianNB, MultinomialNB, BernoulliNB"
   ]
  },
  {
   "cell_type": "code",
   "execution_count": 87,
   "metadata": {},
   "outputs": [
    {
     "data": {
      "text/html": [
       "<div>\n",
       "<style scoped>\n",
       "    .dataframe tbody tr th:only-of-type {\n",
       "        vertical-align: middle;\n",
       "    }\n",
       "\n",
       "    .dataframe tbody tr th {\n",
       "        vertical-align: top;\n",
       "    }\n",
       "\n",
       "    .dataframe thead th {\n",
       "        text-align: right;\n",
       "    }\n",
       "</style>\n",
       "<table border=\"1\" class=\"dataframe\">\n",
       "  <thead>\n",
       "    <tr style=\"text-align: right;\">\n",
       "      <th></th>\n",
       "      <th>0</th>\n",
       "      <th>1</th>\n",
       "    </tr>\n",
       "  </thead>\n",
       "  <tbody>\n",
       "    <tr>\n",
       "      <th>0</th>\n",
       "      <td>11396</td>\n",
       "      <td>507</td>\n",
       "    </tr>\n",
       "    <tr>\n",
       "      <th>1</th>\n",
       "      <td>3116</td>\n",
       "      <td>809</td>\n",
       "    </tr>\n",
       "  </tbody>\n",
       "</table>\n",
       "</div>"
      ],
      "text/plain": [
       "       0    1\n",
       "0  11396  507\n",
       "1   3116  809"
      ]
     },
     "execution_count": 87,
     "metadata": {},
     "output_type": "execute_result"
    }
   ],
   "source": [
    "model = MultinomialNB(alpha=0.005)\n",
    "model.fit(x_train, y_train)\n",
    "Nb_y_pred = model.predict(x_test)\n",
    "pd.DataFrame(classification_report(y_test, Nb_y_pred, output_dict=True)).T\n",
    "cm = pd.DataFrame(confusion_matrix(y_test, Nb_y_pred))\n",
    "cm"
   ]
  },
  {
   "cell_type": "code",
   "execution_count": 88,
   "metadata": {},
   "outputs": [
    {
     "name": "stdout",
     "output_type": "stream",
     "text": [
      "Root Mean Square Error: 0.4784330205661568\n",
      "Mean Square Error: 0.22889815516805662\n",
      "R-squared Value: -0.22743437264383903\n"
     ]
    }
   ],
   "source": [
    "# Model Evaluation\n",
    "rmse = np.sqrt(mean_squared_error(y_test,Nb_y_pred ))\n",
    "mse= mean_squared_error(y_test,Nb_y_pred)\n",
    "r2 = r2_score(y_test,Nb_y_pred)\n",
    "\n",
    "print(\"Root Mean Square Error:\", rmse)\n",
    "print(\"Mean Square Error:\", mse)\n",
    "print(\"R-squared Value:\",r2)"
   ]
  },
  {
   "cell_type": "code",
   "execution_count": 89,
   "metadata": {},
   "outputs": [
    {
     "data": {
      "image/png": "[encoded data removed]",
      "text/plain": [
       "<Figure size 432x288 with 1 Axes>"
      ]
     },
     "metadata": {},
     "output_type": "display_data"
    }
   ],
   "source": [
    "sns.heatmap(cm,cbar=False,annot=True,cmap='Blues',fmt=\"d\")\n",
    "plt.xlabel(\"Nb_y_pred\")\n",
    "plt.ylabel(\"y_test\")\n",
    "plt.title(\"Confusion Matrix:NaiveBayes: MultinomialNB\")\n",
    "plt.show()"
   ]
  },
  {
   "cell_type": "code",
   "execution_count": 90,
   "metadata": {},
   "outputs": [
    {
     "name": "stdout",
     "output_type": "stream",
     "text": [
      "Accuracy Score 0.7711018448319434\n",
      "Model Score:  0.7711018448319434\n"
     ]
    }
   ],
   "source": [
    "print(\"Accuracy Score\", accuracy_score(y_test, Nb_y_pred))\n",
    "print(\"Model Score: \", model.score(x_test, y_test))"
   ]
  },
  {
   "cell_type": "markdown",
   "metadata": {},
   "source": [
    "# Model Validation using 100 Mc Runs for Naive Bayes"
   ]
  },
  {
   "cell_type": "code",
   "execution_count": 91,
   "metadata": {},
   "outputs": [
    {
     "name": "stdout",
     "output_type": "stream",
     "text": [
      "Accuracy using 100 MC run: 0.7711018448319436\n"
     ]
    }
   ],
   "source": [
    "acc1 = []\n",
    "for i in range(100):\n",
    "    model = MultinomialNB(alpha=0.005)\n",
    "    model.fit(x_train, y_train)\n",
    "    Nb_y_pred = model.predict(x_test)\n",
    "    \n",
    "    pred1 = [] \n",
    "    for x in Nb_y_pred:\n",
    "        if x > 0.5:\n",
    "            pred1.append(1)\n",
    "        else:\n",
    "            pred1.append(0) \n",
    "    pred1\n",
    "    a1=accuracy_score(y_test, Nb_y_pred)\n",
    "    acc1.append(a1) \n",
    "print(\"Accuracy using 100 MC run:\", np.mean(acc1)) "
   ]
  },
  {
   "cell_type": "code",
   "execution_count": 92,
   "metadata": {},
   "outputs": [
    {
     "data": {
      "text/html": [
       "<div>\n",
       "<style scoped>\n",
       "    .dataframe tbody tr th:only-of-type {\n",
       "        vertical-align: middle;\n",
       "    }\n",
       "\n",
       "    .dataframe tbody tr th {\n",
       "        vertical-align: top;\n",
       "    }\n",
       "\n",
       "    .dataframe thead th {\n",
       "        text-align: right;\n",
       "    }\n",
       "</style>\n",
       "<table border=\"1\" class=\"dataframe\">\n",
       "  <thead>\n",
       "    <tr style=\"text-align: right;\">\n",
       "      <th></th>\n",
       "      <th>MODEL</th>\n",
       "      <th>ACCURACY</th>\n",
       "    </tr>\n",
       "  </thead>\n",
       "  <tbody>\n",
       "    <tr>\n",
       "      <th>0</th>\n",
       "      <td>NaiveBayes 100 Monte Carlo Runs</td>\n",
       "      <td>77.110184</td>\n",
       "    </tr>\n",
       "  </tbody>\n",
       "</table>\n",
       "</div>"
      ],
      "text/plain": [
       "                             MODEL   ACCURACY\n",
       "0  NaiveBayes 100 Monte Carlo Runs  77.110184"
      ]
     },
     "execution_count": 92,
     "metadata": {},
     "output_type": "execute_result"
    }
   ],
   "source": [
    "model1= pd.DataFrame({'MODEL':[\"NaiveBayes 100 Monte Carlo Runs\"],'ACCURACY':[np.mean(acc1)*100] })\n",
    "model1"
   ]
  },
  {
   "cell_type": "code",
   "execution_count": 93,
   "metadata": {},
   "outputs": [
    {
     "data": {
      "image/png": "[encoded data removed]",
      "text/plain": [
       "<Figure size 432x288 with 1 Axes>"
      ]
     },
     "metadata": {},
     "output_type": "display_data"
    }
   ],
   "source": [
    "# box plot for # 100 Monte Carlo Runs for Naive Bayes mean of Accuracy :\n",
    "sns.set_style('whitegrid')\n",
    "\n",
    "ax= sns.boxplot(x=\"MODEL\",y=(\"ACCURACY\"),data=model1)\n",
    "ax = sns.stripplot(x=\"MODEL\", y=(\"ACCURACY\"),data=model1)\n",
    "plt.show(sns)"
   ]
  },
  {
   "cell_type": "code",
   "execution_count": null,
   "metadata": {},
   "outputs": [],
   "source": []
  },
  {
   "cell_type": "code",
   "execution_count": 94,
   "metadata": {},
   "outputs": [
    {
     "data": {
      "image/png": "[encoded data removed]",
      "text/plain": [
       "<Figure size 432x288 with 1 Axes>"
      ]
     },
     "metadata": {},
     "output_type": "display_data"
    }
   ],
   "source": [
    "# box plot for # 100 Monte Carlo Runs for Ada Boost mean of Accuracy :\n",
    "sns.set_style('whitegrid')\n",
    "\n",
    "ax= sns.boxplot(x=\"MODEL\",y=(\"ACCURACY\"),data=model1)\n",
    "ax = sns.stripplot(x=\"MODEL\", y=(\"ACCURACY\"),data=model1)\n",
    "plt.show(sns)"
   ]
  },
  {
   "cell_type": "markdown",
   "metadata": {},
   "source": [
    "# Overall Acuraccy of base Models (Random Forest, Ada Boost, Naive Bayes)"
   ]
  },
  {
   "cell_type": "code",
   "execution_count": 95,
   "metadata": {},
   "outputs": [],
   "source": [
    "final5 = pd.DataFrame({'MODELS': [\"RANDOM FOREST\",\"AdaBoost-Classification\", \"NaiveBayes\"],\n",
    "'ACCURACY': [accuracy_score(y_test,pred_rfc),accuracy_score(y_test, y_pred_adboost), accuracy_score(y_test, Nb_y_pred)],\n",
    " 'KEY POINTS IN MODEL' :[  \"With 250 Number of trees in forest\", \"With 50 Estimators at which boosting is terminated\",\"MultinomialNB, alpha=0.005\" ]})"
   ]
  },
  {
   "cell_type": "code",
   "execution_count": 149,
   "metadata": {},
   "outputs": [
    {
     "data": {
      "text/html": [
       "<div>\n",
       "<style scoped>\n",
       "    .dataframe tbody tr th:only-of-type {\n",
       "        vertical-align: middle;\n",
       "    }\n",
       "\n",
       "    .dataframe tbody tr th {\n",
       "        vertical-align: top;\n",
       "    }\n",
       "\n",
       "    .dataframe thead th {\n",
       "        text-align: right;\n",
       "    }\n",
       "</style>\n",
       "<table border=\"1\" class=\"dataframe\">\n",
       "  <thead>\n",
       "    <tr style=\"text-align: right;\">\n",
       "      <th></th>\n",
       "      <th>MODELS</th>\n",
       "      <th>KEY POINTS IN MODEL</th>\n",
       "    </tr>\n",
       "    <tr>\n",
       "      <th>ACCURACY</th>\n",
       "      <th></th>\n",
       "      <th></th>\n",
       "    </tr>\n",
       "  </thead>\n",
       "  <tbody>\n",
       "    <tr>\n",
       "      <th>0.852982</th>\n",
       "      <td>AdaBoost-Classification</td>\n",
       "      <td>With 50 Estimators at which boosting is termin...</td>\n",
       "    </tr>\n",
       "    <tr>\n",
       "      <th>0.839146</th>\n",
       "      <td>RANDOM FOREST</td>\n",
       "      <td>With 250 Number of trees in forest</td>\n",
       "    </tr>\n",
       "    <tr>\n",
       "      <th>0.771102</th>\n",
       "      <td>NaiveBayes</td>\n",
       "      <td>MultinomialNB, alpha=0.005</td>\n",
       "    </tr>\n",
       "  </tbody>\n",
       "</table>\n",
       "</div>"
      ],
      "text/plain": [
       "                           MODELS  \\\n",
       "ACCURACY                            \n",
       "0.852982  AdaBoost-Classification   \n",
       "0.839146            RANDOM FOREST   \n",
       "0.771102               NaiveBayes   \n",
       "\n",
       "                                        KEY POINTS IN MODEL  \n",
       "ACCURACY                                                     \n",
       "0.852982  With 50 Estimators at which boosting is termin...  \n",
       "0.839146                 With 250 Number of trees in forest  \n",
       "0.771102                         MultinomialNB, alpha=0.005  "
      ]
     },
     "execution_count": 149,
     "metadata": {},
     "output_type": "execute_result"
    }
   ],
   "source": [
    "end1= final5.sort_values(by='ACCURACY', ascending=False)\n",
    "end_all = end1.set_index('ACCURACY')\n",
    "end_all"
   ]
  },
  {
   "cell_type": "code",
   "execution_count": 97,
   "metadata": {},
   "outputs": [
    {
     "data": {
      "image/png": "[encoded data removed]",
      "text/plain": [
       "<Figure size 432x288 with 1 Axes>"
      ]
     },
     "metadata": {},
     "output_type": "display_data"
    }
   ],
   "source": [
    "# bar plot \n",
    "sns.set_theme(style=\"whitegrid\")\n",
    "ax = sns.barplot(data = final5, x=\"MODELS\", y=\"ACCURACY\")\n"
   ]
  },
  {
   "cell_type": "code",
   "execution_count": 98,
   "metadata": {},
   "outputs": [
    {
     "data": {
      "image/png": "[encoded data removed]",
      "text/plain": [
       "<Figure size 432x288 with 1 Axes>"
      ]
     },
     "metadata": {},
     "output_type": "display_data"
    }
   ],
   "source": [
    "# box plot\n",
    "sns.set_style('whitegrid')\n",
    "ax= sns.boxplot(x=\"MODELS\",y=\"ACCURACY\",data=final5)\n",
    "ax = sns.stripplot(x=\"MODELS\", y=\"ACCURACY\",data=final5)\n",
    "plt.show(sns)"
   ]
  },
  {
   "cell_type": "markdown",
   "metadata": {},
   "source": [
    "# Question-2"
   ]
  },
  {
   "cell_type": "markdown",
   "metadata": {},
   "source": [
    "# Ensemble:  Regressor"
   ]
  },
  {
   "cell_type": "code",
   "execution_count": 99,
   "metadata": {},
   "outputs": [
    {
     "data": {
      "text/html": [
       "<div>\n",
       "<style scoped>\n",
       "    .dataframe tbody tr th:only-of-type {\n",
       "        vertical-align: middle;\n",
       "    }\n",
       "\n",
       "    .dataframe tbody tr th {\n",
       "        vertical-align: top;\n",
       "    }\n",
       "\n",
       "    .dataframe thead th {\n",
       "        text-align: right;\n",
       "    }\n",
       "</style>\n",
       "<table border=\"1\" class=\"dataframe\">\n",
       "  <thead>\n",
       "    <tr style=\"text-align: right;\">\n",
       "      <th></th>\n",
       "      <th>age</th>\n",
       "      <th>workclass</th>\n",
       "      <th>education</th>\n",
       "      <th>education-num</th>\n",
       "      <th>marital-status</th>\n",
       "      <th>occupation</th>\n",
       "      <th>relationship</th>\n",
       "      <th>race</th>\n",
       "      <th>sex</th>\n",
       "      <th>capital-gain</th>\n",
       "      <th>capital-loss</th>\n",
       "      <th>hours-per-week</th>\n",
       "      <th>native-country</th>\n",
       "      <th>income</th>\n",
       "    </tr>\n",
       "  </thead>\n",
       "  <tbody>\n",
       "    <tr>\n",
       "      <th>0</th>\n",
       "      <td>39</td>\n",
       "      <td>5</td>\n",
       "      <td>9</td>\n",
       "      <td>13</td>\n",
       "      <td>4</td>\n",
       "      <td>0</td>\n",
       "      <td>1</td>\n",
       "      <td>4</td>\n",
       "      <td>1</td>\n",
       "      <td>2174</td>\n",
       "      <td>0</td>\n",
       "      <td>40</td>\n",
       "      <td>38</td>\n",
       "      <td>0</td>\n",
       "    </tr>\n",
       "    <tr>\n",
       "      <th>1</th>\n",
       "      <td>35</td>\n",
       "      <td>4</td>\n",
       "      <td>9</td>\n",
       "      <td>13</td>\n",
       "      <td>2</td>\n",
       "      <td>3</td>\n",
       "      <td>0</td>\n",
       "      <td>4</td>\n",
       "      <td>1</td>\n",
       "      <td>0</td>\n",
       "      <td>0</td>\n",
       "      <td>13</td>\n",
       "      <td>38</td>\n",
       "      <td>0</td>\n",
       "    </tr>\n",
       "    <tr>\n",
       "      <th>2</th>\n",
       "      <td>38</td>\n",
       "      <td>2</td>\n",
       "      <td>11</td>\n",
       "      <td>9</td>\n",
       "      <td>0</td>\n",
       "      <td>5</td>\n",
       "      <td>1</td>\n",
       "      <td>4</td>\n",
       "      <td>1</td>\n",
       "      <td>0</td>\n",
       "      <td>0</td>\n",
       "      <td>40</td>\n",
       "      <td>38</td>\n",
       "      <td>0</td>\n",
       "    </tr>\n",
       "    <tr>\n",
       "      <th>3</th>\n",
       "      <td>53</td>\n",
       "      <td>2</td>\n",
       "      <td>1</td>\n",
       "      <td>7</td>\n",
       "      <td>2</td>\n",
       "      <td>5</td>\n",
       "      <td>0</td>\n",
       "      <td>2</td>\n",
       "      <td>1</td>\n",
       "      <td>0</td>\n",
       "      <td>0</td>\n",
       "      <td>40</td>\n",
       "      <td>38</td>\n",
       "      <td>0</td>\n",
       "    </tr>\n",
       "    <tr>\n",
       "      <th>4</th>\n",
       "      <td>28</td>\n",
       "      <td>2</td>\n",
       "      <td>9</td>\n",
       "      <td>13</td>\n",
       "      <td>2</td>\n",
       "      <td>9</td>\n",
       "      <td>5</td>\n",
       "      <td>2</td>\n",
       "      <td>0</td>\n",
       "      <td>0</td>\n",
       "      <td>0</td>\n",
       "      <td>40</td>\n",
       "      <td>4</td>\n",
       "      <td>0</td>\n",
       "    </tr>\n",
       "    <tr>\n",
       "      <th>...</th>\n",
       "      <td>...</td>\n",
       "      <td>...</td>\n",
       "      <td>...</td>\n",
       "      <td>...</td>\n",
       "      <td>...</td>\n",
       "      <td>...</td>\n",
       "      <td>...</td>\n",
       "      <td>...</td>\n",
       "      <td>...</td>\n",
       "      <td>...</td>\n",
       "      <td>...</td>\n",
       "      <td>...</td>\n",
       "      <td>...</td>\n",
       "      <td>...</td>\n",
       "    </tr>\n",
       "    <tr>\n",
       "      <th>16274</th>\n",
       "      <td>33</td>\n",
       "      <td>2</td>\n",
       "      <td>9</td>\n",
       "      <td>13</td>\n",
       "      <td>4</td>\n",
       "      <td>9</td>\n",
       "      <td>3</td>\n",
       "      <td>4</td>\n",
       "      <td>1</td>\n",
       "      <td>0</td>\n",
       "      <td>0</td>\n",
       "      <td>40</td>\n",
       "      <td>38</td>\n",
       "      <td>0</td>\n",
       "    </tr>\n",
       "    <tr>\n",
       "      <th>16275</th>\n",
       "      <td>39</td>\n",
       "      <td>2</td>\n",
       "      <td>9</td>\n",
       "      <td>13</td>\n",
       "      <td>0</td>\n",
       "      <td>9</td>\n",
       "      <td>1</td>\n",
       "      <td>4</td>\n",
       "      <td>0</td>\n",
       "      <td>0</td>\n",
       "      <td>0</td>\n",
       "      <td>36</td>\n",
       "      <td>38</td>\n",
       "      <td>0</td>\n",
       "    </tr>\n",
       "    <tr>\n",
       "      <th>16277</th>\n",
       "      <td>38</td>\n",
       "      <td>2</td>\n",
       "      <td>9</td>\n",
       "      <td>13</td>\n",
       "      <td>2</td>\n",
       "      <td>9</td>\n",
       "      <td>0</td>\n",
       "      <td>4</td>\n",
       "      <td>1</td>\n",
       "      <td>0</td>\n",
       "      <td>0</td>\n",
       "      <td>50</td>\n",
       "      <td>38</td>\n",
       "      <td>0</td>\n",
       "    </tr>\n",
       "    <tr>\n",
       "      <th>16278</th>\n",
       "      <td>44</td>\n",
       "      <td>2</td>\n",
       "      <td>9</td>\n",
       "      <td>13</td>\n",
       "      <td>0</td>\n",
       "      <td>0</td>\n",
       "      <td>3</td>\n",
       "      <td>1</td>\n",
       "      <td>1</td>\n",
       "      <td>5455</td>\n",
       "      <td>0</td>\n",
       "      <td>40</td>\n",
       "      <td>38</td>\n",
       "      <td>0</td>\n",
       "    </tr>\n",
       "    <tr>\n",
       "      <th>16279</th>\n",
       "      <td>35</td>\n",
       "      <td>3</td>\n",
       "      <td>9</td>\n",
       "      <td>13</td>\n",
       "      <td>2</td>\n",
       "      <td>3</td>\n",
       "      <td>0</td>\n",
       "      <td>4</td>\n",
       "      <td>1</td>\n",
       "      <td>0</td>\n",
       "      <td>0</td>\n",
       "      <td>60</td>\n",
       "      <td>38</td>\n",
       "      <td>1</td>\n",
       "    </tr>\n",
       "  </tbody>\n",
       "</table>\n",
       "<p>45221 rows × 14 columns</p>\n",
       "</div>"
      ],
      "text/plain": [
       "       age  workclass  education  education-num  marital-status  occupation  \\\n",
       "0       39          5          9             13               4           0   \n",
       "1       35          4          9             13               2           3   \n",
       "2       38          2         11              9               0           5   \n",
       "3       53          2          1              7               2           5   \n",
       "4       28          2          9             13               2           9   \n",
       "...    ...        ...        ...            ...             ...         ...   \n",
       "16274   33          2          9             13               4           9   \n",
       "16275   39          2          9             13               0           9   \n",
       "16277   38          2          9             13               2           9   \n",
       "16278   44          2          9             13               0           0   \n",
       "16279   35          3          9             13               2           3   \n",
       "\n",
       "       relationship  race  sex  capital-gain  capital-loss  hours-per-week  \\\n",
       "0                 1     4    1          2174             0              40   \n",
       "1                 0     4    1             0             0              13   \n",
       "2                 1     4    1             0             0              40   \n",
       "3                 0     2    1             0             0              40   \n",
       "4                 5     2    0             0             0              40   \n",
       "...             ...   ...  ...           ...           ...             ...   \n",
       "16274             3     4    1             0             0              40   \n",
       "16275             1     4    0             0             0              36   \n",
       "16277             0     4    1             0             0              50   \n",
       "16278             3     1    1          5455             0              40   \n",
       "16279             0     4    1             0             0              60   \n",
       "\n",
       "       native-country  income  \n",
       "0                  38       0  \n",
       "1                  38       0  \n",
       "2                  38       0  \n",
       "3                  38       0  \n",
       "4                   4       0  \n",
       "...               ...     ...  \n",
       "16274              38       0  \n",
       "16275              38       0  \n",
       "16277              38       0  \n",
       "16278              38       0  \n",
       "16279              38       1  \n",
       "\n",
       "[45221 rows x 14 columns]"
      ]
     },
     "execution_count": 99,
     "metadata": {},
     "output_type": "execute_result"
    }
   ],
   "source": [
    "dataset"
   ]
  },
  {
   "cell_type": "code",
   "execution_count": 100,
   "metadata": {},
   "outputs": [],
   "source": [
    "\n",
    "x1= dataset[['age','workclass','education','education-num','marital-status','occupation','relationship','race','sex','capital-gain','capital-loss','hours-per-week','native-country']]\n",
    "y1= dataset['income'] "
   ]
  },
  {
   "cell_type": "code",
   "execution_count": 101,
   "metadata": {},
   "outputs": [
    {
     "name": "stdout",
     "output_type": "stream",
     "text": [
      "X-Train Shape:  (29393, 13) \n",
      "Y-Train Shape(Dependent): (29393,)\n",
      "X-Test Shape:  (15828, 13) \n",
      "Y-Test Shape(Dependent): (15828,)\n"
     ]
    }
   ],
   "source": [
    "x1_train, x1_test, y1_train, y1_test = train_test_split(x1,y1,test_size=0.35, shuffle= True)\n",
    "print(\"X-Train Shape: \", x1_train.shape,'\\n' \"Y-Train Shape(Dependent):\", y1_train.shape)\n",
    "print(\"X-Test Shape: \", x1_test.shape,'\\n' \"Y-Test Shape(Dependent):\", y1_test.shape)"
   ]
  },
  {
   "cell_type": "markdown",
   "metadata": {},
   "source": [
    "# Ensemble Bagging Regressor "
   ]
  },
  {
   "cell_type": "raw",
   "metadata": {},
   "source": [
    "\n",
    "#  A Bagging regressor is an ensemble meta-estimator that fits base regressors each on random subsets of the original dataset \n",
    "#  and then aggregate their individual predictions (either by voting or by averaging) to form a final prediction. \n",
    "#  Such a meta-estimator can typically be used as a way to reduce the variance of a black-box estimator (e.g., a decision tree),\n",
    "#  by introducing randomization into its construction procedure and then making an ensemble out of it.\n"
   ]
  },
  {
   "cell_type": "code",
   "execution_count": 188,
   "metadata": {},
   "outputs": [],
   "source": [
    "# https://scikit-learn.org/stable/modules/generated/sklearn.ensemble.BaggingRegressor.html"
   ]
  },
  {
   "cell_type": "code",
   "execution_count": 202,
   "metadata": {},
   "outputs": [
    {
     "name": "stdout",
     "output_type": "stream",
     "text": [
      "Accuracy  0.22025149109773223\n"
     ]
    }
   ],
   "source": [
    "from sklearn.ensemble import BaggingRegressor\n",
    "from sklearn.linear_model import LinearRegression\n",
    "\n",
    "# Bagging Regressor: Linear Regression prediction\n",
    "\n",
    "bagging_reg = BaggingRegressor(LinearRegression(), n_estimators=50, max_samples=300, bootstrap=True, n_jobs=-1)\n",
    "bagging_reg.fit(x1_train,y1_train)\n",
    "y1_pred = bagging_reg.predict(x1_test)\n",
    "print('Accuracy ', r2_score(y1_test, y1_pred))"
   ]
  },
  {
   "cell_type": "code",
   "execution_count": 203,
   "metadata": {},
   "outputs": [
    {
     "name": "stdout",
     "output_type": "stream",
     "text": [
      " Bagging Regressor Root Mean Square Error: 0.3798852996702046\n",
      " Bagging Regressor Mean Square Error: 0.25602011085778015\n",
      "Bagging  Regressor R-squared Value: 0.22025149109773223\n"
     ]
    }
   ],
   "source": [
    "# Model Evaluation for Bagging  Regressor\n",
    "rmse0 = np.sqrt(mean_squared_error(y1_test,y1_pred  ))\n",
    "mse0= mean_squared_error(y_test,y1_pred )\n",
    "r20 = r2_score(y1_test,y1_pred )\n",
    "\n",
    "print(\" Bagging Regressor Root Mean Square Error:\", rmse0)\n",
    "print(\" Bagging Regressor Mean Square Error:\", mse0)\n",
    "print(\"Bagging  Regressor R-squared Value:\",r20)"
   ]
  },
  {
   "cell_type": "markdown",
   "metadata": {},
   "source": [
    "# Voting regression"
   ]
  },
  {
   "cell_type": "code",
   "execution_count": 192,
   "metadata": {},
   "outputs": [],
   "source": [
    "from sklearn.ensemble import VotingRegressor"
   ]
  },
  {
   "cell_type": "code",
   "execution_count": 193,
   "metadata": {},
   "outputs": [
    {
     "name": "stdout",
     "output_type": "stream",
     "text": [
      "LinearRegression 0.2598970610805016\n",
      "KNeighborsRegressor 0.3611765094856487\n",
      "SVR 0.14485070889428941\n",
      "VotingRegressor 0.3754450340419311\n"
     ]
    }
   ],
   "source": [
    "from sklearn.linear_model import LinearRegression\n",
    "from sklearn.neighbors import KNeighborsRegressor\n",
    "from sklearn.svm import SVR\n",
    "\n",
    "# Prediction for Voting Regressor with Linear Regression, KNN Regression, SVR Regression\n",
    "\n",
    "lin_reg = LinearRegression()\n",
    "knn_reg = KNeighborsRegressor(n_neighbors=5)\n",
    "svr_reg = SVR(C=1000)\n",
    "\n",
    "voting_reg = VotingRegressor(estimators=[('lr', lin_reg), ('knn', knn_reg), ('svr', svr_reg)])\n",
    "\n",
    "for reg in (lin_reg, knn_reg, svr_reg, voting_reg):\n",
    "    reg.fit(x1_train, y1_train)\n",
    "    y2_pred = reg.predict(x1_test)\n",
    "    print(reg.__class__.__name__, r2_score(y1_test, y2_pred))"
   ]
  },
  {
   "cell_type": "code",
   "execution_count": 218,
   "metadata": {},
   "outputs": [
    {
     "name": "stdout",
     "output_type": "stream",
     "text": [
      "('VotingRegressor', 0.500794544027604)\n"
     ]
    }
   ],
   "source": [
    "print((reg.__class__.__name__, r2_score(y1_test, y2_pred)))"
   ]
  },
  {
   "cell_type": "markdown",
   "metadata": {},
   "source": [
    "# Random  Forest and Xg Boost Regressor"
   ]
  },
  {
   "cell_type": "code",
   "execution_count": 219,
   "metadata": {},
   "outputs": [
    {
     "name": "stdout",
     "output_type": "stream",
     "text": [
      "Note: you may need to restart the kernel to use updated packages.\n"
     ]
    },
    {
     "name": "stderr",
     "output_type": "stream",
     "text": [
      "ERROR: Invalid requirement: '#'\n"
     ]
    }
   ],
   "source": [
    "pip install xgboost # install xg boost"
   ]
  },
  {
   "cell_type": "code",
   "execution_count": 220,
   "metadata": {},
   "outputs": [],
   "source": [
    "from sklearn.ensemble import RandomForestRegressor\n",
    "#from sklearn.xgboost import XGBRegressor\n",
    "import xgboost as xgb"
   ]
  },
  {
   "cell_type": "code",
   "execution_count": 221,
   "metadata": {},
   "outputs": [],
   "source": [
    "# Prediction for XG Boost Regressor\n",
    "model_2 = xgb.XGBRegressor()\n",
    "model_2.fit(x1_train,y1_train)\n",
    "y2_pred = model_2.predict(x1_test)"
   ]
  },
  {
   "cell_type": "code",
   "execution_count": 222,
   "metadata": {},
   "outputs": [],
   "source": [
    "# Model Evaluation for Random Forest Regressor\n",
    "rmse2 = np.sqrt(mean_squared_error(y1_test,y2_pred  ))\n",
    "mse2= mean_squared_error(y1_test,y2_pred )\n",
    "r22 = r2_score(y1_test,y2_pred )"
   ]
  },
  {
   "cell_type": "code",
   "execution_count": 223,
   "metadata": {},
   "outputs": [
    {
     "name": "stdout",
     "output_type": "stream",
     "text": [
      " XGB Regressor Root Mean Square Error: 0.30395890635112816\n",
      " XGB Regressor Mean Square Error: 0.09239101675017389\n",
      "XGB Regressor R-squared Value: 0.500794544027604\n"
     ]
    }
   ],
   "source": [
    "print(\" XGB Regressor Root Mean Square Error:\", rmse2)\n",
    "print(\" XGB Regressor Mean Square Error:\", mse2)\n",
    "print(\"XGB Regressor R-squared Value:\",r22)"
   ]
  },
  {
   "cell_type": "code",
   "execution_count": 224,
   "metadata": {},
   "outputs": [],
   "source": [
    "# Prediction for Random Forest  Regressor\n",
    "model_3 = RandomForestRegressor()\n",
    "model_3.fit(x1_train,y1_train)\n",
    "y3_pred =model_3.predict(x1_test)"
   ]
  },
  {
   "cell_type": "code",
   "execution_count": 225,
   "metadata": {},
   "outputs": [
    {
     "name": "stdout",
     "output_type": "stream",
     "text": [
      "Random Forest Regressor Root Mean Square Error: 0.3368776900362066\n",
      " Random Forest Regressor Mean Square Error: 0.1134865780441305\n",
      "Random Forest Regressor R-squared Value: 0.38681139214586646\n"
     ]
    }
   ],
   "source": [
    "# Model Evaluation for Random Forest Regressor\n",
    "rmse3 = np.sqrt(mean_squared_error(y1_test,y3_pred  ))\n",
    "mse3= mean_squared_error(y1_test,y3_pred )\n",
    "r23 = r2_score(y1_test,y3_pred )\n",
    "\n",
    "print(\"Random Forest Regressor Root Mean Square Error:\", rmse3)\n",
    "print(\" Random Forest Regressor Mean Square Error:\", mse3)\n",
    "print(\"Random Forest Regressor R-squared Value:\",r23)"
   ]
  },
  {
   "cell_type": "markdown",
   "metadata": {},
   "source": [
    "# Fianl Accuarcy for the Ensemble Regression Models"
   ]
  },
  {
   "cell_type": "code",
   "execution_count": 226,
   "metadata": {},
   "outputs": [],
   "source": [
    "final = pd.DataFrame({'MODELS': [\"Bagging Regressor\",\"Voting Regressor\", \"XGBoost\",\"Random Forest Regressor\" ],\n",
    "'ACCURACY': [r2_score(y1_test, y1_pred),r2_score(y1_test, y2_pred), r2, r23]})\n"
   ]
  },
  {
   "cell_type": "code",
   "execution_count": 227,
   "metadata": {},
   "outputs": [
    {
     "data": {
      "text/html": [
       "<div>\n",
       "<style scoped>\n",
       "    .dataframe tbody tr th:only-of-type {\n",
       "        vertical-align: middle;\n",
       "    }\n",
       "\n",
       "    .dataframe tbody tr th {\n",
       "        vertical-align: top;\n",
       "    }\n",
       "\n",
       "    .dataframe thead th {\n",
       "        text-align: right;\n",
       "    }\n",
       "</style>\n",
       "<table border=\"1\" class=\"dataframe\">\n",
       "  <thead>\n",
       "    <tr style=\"text-align: right;\">\n",
       "      <th></th>\n",
       "      <th>MODELS</th>\n",
       "    </tr>\n",
       "    <tr>\n",
       "      <th>ACCURACY</th>\n",
       "      <th></th>\n",
       "    </tr>\n",
       "  </thead>\n",
       "  <tbody>\n",
       "    <tr>\n",
       "      <th>0.500795</th>\n",
       "      <td>Voting Regressor</td>\n",
       "    </tr>\n",
       "    <tr>\n",
       "      <th>0.386811</th>\n",
       "      <td>Random Forest Regressor</td>\n",
       "    </tr>\n",
       "    <tr>\n",
       "      <th>0.220251</th>\n",
       "      <td>Bagging Regressor</td>\n",
       "    </tr>\n",
       "    <tr>\n",
       "      <th>-0.255195</th>\n",
       "      <td>XGBoost</td>\n",
       "    </tr>\n",
       "  </tbody>\n",
       "</table>\n",
       "</div>"
      ],
      "text/plain": [
       "                            MODELS\n",
       "ACCURACY                          \n",
       " 0.500795         Voting Regressor\n",
       " 0.386811  Random Forest Regressor\n",
       " 0.220251        Bagging Regressor\n",
       "-0.255195                  XGBoost"
      ]
     },
     "execution_count": 227,
     "metadata": {},
     "output_type": "execute_result"
    }
   ],
   "source": [
    "end= final.sort_values(by='ACCURACY', ascending=False)\n",
    "end_all = end.set_index('ACCURACY')\n",
    "end_all"
   ]
  },
  {
   "cell_type": "code",
   "execution_count": 228,
   "metadata": {},
   "outputs": [],
   "source": [
    "# Plots for Regression"
   ]
  },
  {
   "cell_type": "code",
   "execution_count": 229,
   "metadata": {},
   "outputs": [
    {
     "data": {
      "image/png": "[encoded data removed]",
      "text/plain": [
       "<Figure size 432x288 with 1 Axes>"
      ]
     },
     "metadata": {},
     "output_type": "display_data"
    }
   ],
   "source": [
    "# bar plot \n",
    "sns.set_theme(style=\"whitegrid\")\n",
    "ax = sns.barplot(data = final, x=\"MODELS\", y=\"ACCURACY\")"
   ]
  },
  {
   "cell_type": "code",
   "execution_count": 230,
   "metadata": {},
   "outputs": [
    {
     "data": {
      "image/png": "[encoded data removed]",
      "text/plain": [
       "<Figure size 432x288 with 1 Axes>"
      ]
     },
     "metadata": {},
     "output_type": "display_data"
    }
   ],
   "source": [
    "# box plot for overall Regression :\n",
    "sns.set_style('whitegrid')\n",
    "\n",
    "ax= sns.boxplot(x=\"MODELS\",y=(\"ACCURACY\"),data=final)\n",
    "ax = sns.stripplot(x=\"MODELS\", y=(\"ACCURACY\"),data=final)\n",
    "plt.show(sns)"
   ]
  },
  {
   "cell_type": "code",
   "execution_count": 231,
   "metadata": {},
   "outputs": [],
   "source": [
    "# Voting Resgressio performs well compared with the other ensemble regression"
   ]
  },
  {
   "cell_type": "code",
   "execution_count": 232,
   "metadata": {},
   "outputs": [],
   "source": [
    "# basically Resression will not be a Suitable for the classification type of Dataset. "
   ]
  }
 ],
 "metadata": {
  "kernelspec": {
   "display_name": "Python 3",
   "language": "python",
   "name": "python3"
  },
  "language_info": {
   "codemirror_mode": {
    "name": "ipython",
    "version": 3
   },
   "file_extension": ".py",
   "mimetype": "text/x-python",
   "name": "python",
   "nbconvert_exporter": "python",
   "pygments_lexer": "ipython3",
   "version": "3.7.9"
  }
 },
 "nbformat": 4,
 "nbformat_minor": 4
}
