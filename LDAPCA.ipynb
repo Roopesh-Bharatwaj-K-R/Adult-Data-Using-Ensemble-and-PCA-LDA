{
 "cells": [
  {
   "cell_type": "code",
   "execution_count": 58,
   "metadata": {},
   "outputs": [],
   "source": [
    "import pandas as pd\n",
    "import numpy as np\n",
    "import matplotlib.pyplot as plt\n",
    "import seaborn as sns"
   ]
  },
  {
   "cell_type": "code",
   "execution_count": 3,
   "metadata": {},
   "outputs": [],
   "source": [
    "data=pd.read_csv(\"C:/Users/user/Desktop/tina/nfl2008_fga.csv\")"
   ]
  },
  {
   "cell_type": "code",
   "execution_count": 4,
   "metadata": {
    "scrolled": true
   },
   "outputs": [
    {
     "data": {
      "text/html": [
       "<div>\n",
       "<style scoped>\n",
       "    .dataframe tbody tr th:only-of-type {\n",
       "        vertical-align: middle;\n",
       "    }\n",
       "\n",
       "    .dataframe tbody tr th {\n",
       "        vertical-align: top;\n",
       "    }\n",
       "\n",
       "    .dataframe thead th {\n",
       "        text-align: right;\n",
       "    }\n",
       "</style>\n",
       "<table border=\"1\" class=\"dataframe\">\n",
       "  <thead>\n",
       "    <tr style=\"text-align: right;\">\n",
       "      <th></th>\n",
       "      <th>GameDate</th>\n",
       "      <th>AwayTeam</th>\n",
       "      <th>HomeTeam</th>\n",
       "      <th>qtr</th>\n",
       "      <th>min</th>\n",
       "      <th>sec</th>\n",
       "      <th>kickteam</th>\n",
       "      <th>def</th>\n",
       "      <th>down</th>\n",
       "      <th>togo</th>\n",
       "      <th>...</th>\n",
       "      <th>distance</th>\n",
       "      <th>homekick</th>\n",
       "      <th>kickdiff</th>\n",
       "      <th>timerem</th>\n",
       "      <th>offscore</th>\n",
       "      <th>defscore</th>\n",
       "      <th>season</th>\n",
       "      <th>GOOD</th>\n",
       "      <th>Missed</th>\n",
       "      <th>Blocked</th>\n",
       "    </tr>\n",
       "  </thead>\n",
       "  <tbody>\n",
       "    <tr>\n",
       "      <th>0</th>\n",
       "      <td>20081130</td>\n",
       "      <td>IND</td>\n",
       "      <td>CLE</td>\n",
       "      <td>1</td>\n",
       "      <td>47</td>\n",
       "      <td>2</td>\n",
       "      <td>IND</td>\n",
       "      <td>CLE</td>\n",
       "      <td>4.0</td>\n",
       "      <td>11.0</td>\n",
       "      <td>...</td>\n",
       "      <td>30</td>\n",
       "      <td>0</td>\n",
       "      <td>-3</td>\n",
       "      <td>2822</td>\n",
       "      <td>0</td>\n",
       "      <td>3</td>\n",
       "      <td>2008</td>\n",
       "      <td>1</td>\n",
       "      <td>0</td>\n",
       "      <td>0</td>\n",
       "    </tr>\n",
       "    <tr>\n",
       "      <th>1</th>\n",
       "      <td>20081005</td>\n",
       "      <td>IND</td>\n",
       "      <td>HOU</td>\n",
       "      <td>1</td>\n",
       "      <td>54</td>\n",
       "      <td>47</td>\n",
       "      <td>IND</td>\n",
       "      <td>HOU</td>\n",
       "      <td>4.0</td>\n",
       "      <td>3.0</td>\n",
       "      <td>...</td>\n",
       "      <td>46</td>\n",
       "      <td>0</td>\n",
       "      <td>0</td>\n",
       "      <td>3287</td>\n",
       "      <td>0</td>\n",
       "      <td>0</td>\n",
       "      <td>2008</td>\n",
       "      <td>1</td>\n",
       "      <td>0</td>\n",
       "      <td>0</td>\n",
       "    </tr>\n",
       "    <tr>\n",
       "      <th>2</th>\n",
       "      <td>20081228</td>\n",
       "      <td>TEN</td>\n",
       "      <td>IND</td>\n",
       "      <td>1</td>\n",
       "      <td>45</td>\n",
       "      <td>20</td>\n",
       "      <td>IND</td>\n",
       "      <td>TEN</td>\n",
       "      <td>4.0</td>\n",
       "      <td>3.0</td>\n",
       "      <td>...</td>\n",
       "      <td>28</td>\n",
       "      <td>1</td>\n",
       "      <td>7</td>\n",
       "      <td>2720</td>\n",
       "      <td>7</td>\n",
       "      <td>0</td>\n",
       "      <td>2008</td>\n",
       "      <td>1</td>\n",
       "      <td>0</td>\n",
       "      <td>0</td>\n",
       "    </tr>\n",
       "    <tr>\n",
       "      <th>3</th>\n",
       "      <td>20081012</td>\n",
       "      <td>BAL</td>\n",
       "      <td>IND</td>\n",
       "      <td>1</td>\n",
       "      <td>45</td>\n",
       "      <td>42</td>\n",
       "      <td>IND</td>\n",
       "      <td>BAL</td>\n",
       "      <td>4.0</td>\n",
       "      <td>1.0</td>\n",
       "      <td>...</td>\n",
       "      <td>37</td>\n",
       "      <td>1</td>\n",
       "      <td>14</td>\n",
       "      <td>2742</td>\n",
       "      <td>14</td>\n",
       "      <td>0</td>\n",
       "      <td>2008</td>\n",
       "      <td>1</td>\n",
       "      <td>0</td>\n",
       "      <td>0</td>\n",
       "    </tr>\n",
       "    <tr>\n",
       "      <th>4</th>\n",
       "      <td>20080907</td>\n",
       "      <td>CHI</td>\n",
       "      <td>IND</td>\n",
       "      <td>1</td>\n",
       "      <td>50</td>\n",
       "      <td>56</td>\n",
       "      <td>IND</td>\n",
       "      <td>CHI</td>\n",
       "      <td>4.0</td>\n",
       "      <td>21.0</td>\n",
       "      <td>...</td>\n",
       "      <td>39</td>\n",
       "      <td>1</td>\n",
       "      <td>0</td>\n",
       "      <td>3056</td>\n",
       "      <td>0</td>\n",
       "      <td>0</td>\n",
       "      <td>2008</td>\n",
       "      <td>1</td>\n",
       "      <td>0</td>\n",
       "      <td>0</td>\n",
       "    </tr>\n",
       "    <tr>\n",
       "      <th>...</th>\n",
       "      <td>...</td>\n",
       "      <td>...</td>\n",
       "      <td>...</td>\n",
       "      <td>...</td>\n",
       "      <td>...</td>\n",
       "      <td>...</td>\n",
       "      <td>...</td>\n",
       "      <td>...</td>\n",
       "      <td>...</td>\n",
       "      <td>...</td>\n",
       "      <td>...</td>\n",
       "      <td>...</td>\n",
       "      <td>...</td>\n",
       "      <td>...</td>\n",
       "      <td>...</td>\n",
       "      <td>...</td>\n",
       "      <td>...</td>\n",
       "      <td>...</td>\n",
       "      <td>...</td>\n",
       "      <td>...</td>\n",
       "      <td>...</td>\n",
       "    </tr>\n",
       "    <tr>\n",
       "      <th>1034</th>\n",
       "      <td>20081102</td>\n",
       "      <td>GB</td>\n",
       "      <td>TEN</td>\n",
       "      <td>5</td>\n",
       "      <td>-6</td>\n",
       "      <td>41</td>\n",
       "      <td>TEN</td>\n",
       "      <td>GB</td>\n",
       "      <td>3.0</td>\n",
       "      <td>2.0</td>\n",
       "      <td>...</td>\n",
       "      <td>41</td>\n",
       "      <td>1</td>\n",
       "      <td>0</td>\n",
       "      <td>-319</td>\n",
       "      <td>16</td>\n",
       "      <td>16</td>\n",
       "      <td>2008</td>\n",
       "      <td>1</td>\n",
       "      <td>0</td>\n",
       "      <td>0</td>\n",
       "    </tr>\n",
       "    <tr>\n",
       "      <th>1035</th>\n",
       "      <td>20081211</td>\n",
       "      <td>NO</td>\n",
       "      <td>CHI</td>\n",
       "      <td>5</td>\n",
       "      <td>-3</td>\n",
       "      <td>19</td>\n",
       "      <td>CHI</td>\n",
       "      <td>NO</td>\n",
       "      <td>2.0</td>\n",
       "      <td>13.0</td>\n",
       "      <td>...</td>\n",
       "      <td>35</td>\n",
       "      <td>1</td>\n",
       "      <td>0</td>\n",
       "      <td>-161</td>\n",
       "      <td>24</td>\n",
       "      <td>24</td>\n",
       "      <td>2008</td>\n",
       "      <td>1</td>\n",
       "      <td>0</td>\n",
       "      <td>0</td>\n",
       "    </tr>\n",
       "    <tr>\n",
       "      <th>1036</th>\n",
       "      <td>20081222</td>\n",
       "      <td>GB</td>\n",
       "      <td>CHI</td>\n",
       "      <td>5</td>\n",
       "      <td>-4</td>\n",
       "      <td>33</td>\n",
       "      <td>CHI</td>\n",
       "      <td>GB</td>\n",
       "      <td>3.0</td>\n",
       "      <td>10.0</td>\n",
       "      <td>...</td>\n",
       "      <td>38</td>\n",
       "      <td>1</td>\n",
       "      <td>0</td>\n",
       "      <td>-207</td>\n",
       "      <td>17</td>\n",
       "      <td>17</td>\n",
       "      <td>2008</td>\n",
       "      <td>1</td>\n",
       "      <td>0</td>\n",
       "      <td>0</td>\n",
       "    </tr>\n",
       "    <tr>\n",
       "      <th>1037</th>\n",
       "      <td>20081116</td>\n",
       "      <td>PHI</td>\n",
       "      <td>CIN</td>\n",
       "      <td>5</td>\n",
       "      <td>-15</td>\n",
       "      <td>13</td>\n",
       "      <td>CIN</td>\n",
       "      <td>PHI</td>\n",
       "      <td>4.0</td>\n",
       "      <td>5.0</td>\n",
       "      <td>...</td>\n",
       "      <td>47</td>\n",
       "      <td>1</td>\n",
       "      <td>0</td>\n",
       "      <td>-887</td>\n",
       "      <td>13</td>\n",
       "      <td>13</td>\n",
       "      <td>2008</td>\n",
       "      <td>0</td>\n",
       "      <td>1</td>\n",
       "      <td>0</td>\n",
       "    </tr>\n",
       "    <tr>\n",
       "      <th>1038</th>\n",
       "      <td>20081019</td>\n",
       "      <td>NYJ</td>\n",
       "      <td>OAK</td>\n",
       "      <td>5</td>\n",
       "      <td>-13</td>\n",
       "      <td>35</td>\n",
       "      <td>OAK</td>\n",
       "      <td>NYJ</td>\n",
       "      <td>4.0</td>\n",
       "      <td>11.0</td>\n",
       "      <td>...</td>\n",
       "      <td>57</td>\n",
       "      <td>1</td>\n",
       "      <td>0</td>\n",
       "      <td>-745</td>\n",
       "      <td>13</td>\n",
       "      <td>13</td>\n",
       "      <td>2008</td>\n",
       "      <td>1</td>\n",
       "      <td>0</td>\n",
       "      <td>0</td>\n",
       "    </tr>\n",
       "  </tbody>\n",
       "</table>\n",
       "<p>1039 rows × 23 columns</p>\n",
       "</div>"
      ],
      "text/plain": [
       "      GameDate AwayTeam HomeTeam  qtr  min  sec kickteam  def  down  togo  \\\n",
       "0     20081130      IND      CLE    1   47    2      IND  CLE   4.0  11.0   \n",
       "1     20081005      IND      HOU    1   54   47      IND  HOU   4.0   3.0   \n",
       "2     20081228      TEN      IND    1   45   20      IND  TEN   4.0   3.0   \n",
       "3     20081012      BAL      IND    1   45   42      IND  BAL   4.0   1.0   \n",
       "4     20080907      CHI      IND    1   50   56      IND  CHI   4.0  21.0   \n",
       "...        ...      ...      ...  ...  ...  ...      ...  ...   ...   ...   \n",
       "1034  20081102       GB      TEN    5   -6   41      TEN   GB   3.0   2.0   \n",
       "1035  20081211       NO      CHI    5   -3   19      CHI   NO   2.0  13.0   \n",
       "1036  20081222       GB      CHI    5   -4   33      CHI   GB   3.0  10.0   \n",
       "1037  20081116      PHI      CIN    5  -15   13      CIN  PHI   4.0   5.0   \n",
       "1038  20081019      NYJ      OAK    5  -13   35      OAK  NYJ   4.0  11.0   \n",
       "\n",
       "      ...  distance  homekick kickdiff  timerem  offscore  defscore  season  \\\n",
       "0     ...        30         0       -3     2822         0         3    2008   \n",
       "1     ...        46         0        0     3287         0         0    2008   \n",
       "2     ...        28         1        7     2720         7         0    2008   \n",
       "3     ...        37         1       14     2742        14         0    2008   \n",
       "4     ...        39         1        0     3056         0         0    2008   \n",
       "...   ...       ...       ...      ...      ...       ...       ...     ...   \n",
       "1034  ...        41         1        0     -319        16        16    2008   \n",
       "1035  ...        35         1        0     -161        24        24    2008   \n",
       "1036  ...        38         1        0     -207        17        17    2008   \n",
       "1037  ...        47         1        0     -887        13        13    2008   \n",
       "1038  ...        57         1        0     -745        13        13    2008   \n",
       "\n",
       "      GOOD  Missed  Blocked  \n",
       "0        1       0        0  \n",
       "1        1       0        0  \n",
       "2        1       0        0  \n",
       "3        1       0        0  \n",
       "4        1       0        0  \n",
       "...    ...     ...      ...  \n",
       "1034     1       0        0  \n",
       "1035     1       0        0  \n",
       "1036     1       0        0  \n",
       "1037     0       1        0  \n",
       "1038     1       0        0  \n",
       "\n",
       "[1039 rows x 23 columns]"
      ]
     },
     "execution_count": 4,
     "metadata": {},
     "output_type": "execute_result"
    }
   ],
   "source": [
    "data"
   ]
  },
  {
   "cell_type": "code",
   "execution_count": 5,
   "metadata": {},
   "outputs": [],
   "source": [
    "from sklearn import preprocessing\n",
    "from sklearn.preprocessing import LabelEncoder\n",
    "le = LabelEncoder()\n",
    "data['kickteam']= le.fit_transform(data['kickteam'])"
   ]
  },
  {
   "cell_type": "code",
   "execution_count": 6,
   "metadata": {},
   "outputs": [],
   "source": [
    "data = data.fillna(0)"
   ]
  },
  {
   "cell_type": "code",
   "execution_count": 7,
   "metadata": {},
   "outputs": [
    {
     "data": {
      "text/plain": [
       "0       11\n",
       "1        3\n",
       "2        3\n",
       "3        1\n",
       "4       21\n",
       "        ..\n",
       "1034     2\n",
       "1035    13\n",
       "1036    10\n",
       "1037     5\n",
       "1038    11\n",
       "Name: togo, Length: 1039, dtype: int32"
      ]
     },
     "execution_count": 7,
     "metadata": {},
     "output_type": "execute_result"
    }
   ],
   "source": [
    "data['togo'].astype(int)"
   ]
  },
  {
   "cell_type": "code",
   "execution_count": 8,
   "metadata": {},
   "outputs": [
    {
     "data": {
      "text/html": [
       "<div>\n",
       "<style scoped>\n",
       "    .dataframe tbody tr th:only-of-type {\n",
       "        vertical-align: middle;\n",
       "    }\n",
       "\n",
       "    .dataframe tbody tr th {\n",
       "        vertical-align: top;\n",
       "    }\n",
       "\n",
       "    .dataframe thead th {\n",
       "        text-align: right;\n",
       "    }\n",
       "</style>\n",
       "<table border=\"1\" class=\"dataframe\">\n",
       "  <thead>\n",
       "    <tr style=\"text-align: right;\">\n",
       "      <th></th>\n",
       "      <th>GameDate</th>\n",
       "      <th>AwayTeam</th>\n",
       "      <th>HomeTeam</th>\n",
       "      <th>qtr</th>\n",
       "      <th>min</th>\n",
       "      <th>sec</th>\n",
       "      <th>kickteam</th>\n",
       "      <th>def</th>\n",
       "      <th>down</th>\n",
       "      <th>togo</th>\n",
       "      <th>...</th>\n",
       "      <th>distance</th>\n",
       "      <th>homekick</th>\n",
       "      <th>kickdiff</th>\n",
       "      <th>timerem</th>\n",
       "      <th>offscore</th>\n",
       "      <th>defscore</th>\n",
       "      <th>season</th>\n",
       "      <th>GOOD</th>\n",
       "      <th>Missed</th>\n",
       "      <th>Blocked</th>\n",
       "    </tr>\n",
       "  </thead>\n",
       "  <tbody>\n",
       "    <tr>\n",
       "      <th>0</th>\n",
       "      <td>20081130</td>\n",
       "      <td>IND</td>\n",
       "      <td>CLE</td>\n",
       "      <td>1</td>\n",
       "      <td>47</td>\n",
       "      <td>2</td>\n",
       "      <td>13</td>\n",
       "      <td>CLE</td>\n",
       "      <td>4.0</td>\n",
       "      <td>11.0</td>\n",
       "      <td>...</td>\n",
       "      <td>30</td>\n",
       "      <td>0</td>\n",
       "      <td>-3</td>\n",
       "      <td>2822</td>\n",
       "      <td>0</td>\n",
       "      <td>3</td>\n",
       "      <td>2008</td>\n",
       "      <td>1</td>\n",
       "      <td>0</td>\n",
       "      <td>0</td>\n",
       "    </tr>\n",
       "    <tr>\n",
       "      <th>1</th>\n",
       "      <td>20081005</td>\n",
       "      <td>IND</td>\n",
       "      <td>HOU</td>\n",
       "      <td>1</td>\n",
       "      <td>54</td>\n",
       "      <td>47</td>\n",
       "      <td>13</td>\n",
       "      <td>HOU</td>\n",
       "      <td>4.0</td>\n",
       "      <td>3.0</td>\n",
       "      <td>...</td>\n",
       "      <td>46</td>\n",
       "      <td>0</td>\n",
       "      <td>0</td>\n",
       "      <td>3287</td>\n",
       "      <td>0</td>\n",
       "      <td>0</td>\n",
       "      <td>2008</td>\n",
       "      <td>1</td>\n",
       "      <td>0</td>\n",
       "      <td>0</td>\n",
       "    </tr>\n",
       "    <tr>\n",
       "      <th>2</th>\n",
       "      <td>20081228</td>\n",
       "      <td>TEN</td>\n",
       "      <td>IND</td>\n",
       "      <td>1</td>\n",
       "      <td>45</td>\n",
       "      <td>20</td>\n",
       "      <td>13</td>\n",
       "      <td>TEN</td>\n",
       "      <td>4.0</td>\n",
       "      <td>3.0</td>\n",
       "      <td>...</td>\n",
       "      <td>28</td>\n",
       "      <td>1</td>\n",
       "      <td>7</td>\n",
       "      <td>2720</td>\n",
       "      <td>7</td>\n",
       "      <td>0</td>\n",
       "      <td>2008</td>\n",
       "      <td>1</td>\n",
       "      <td>0</td>\n",
       "      <td>0</td>\n",
       "    </tr>\n",
       "    <tr>\n",
       "      <th>3</th>\n",
       "      <td>20081012</td>\n",
       "      <td>BAL</td>\n",
       "      <td>IND</td>\n",
       "      <td>1</td>\n",
       "      <td>45</td>\n",
       "      <td>42</td>\n",
       "      <td>13</td>\n",
       "      <td>BAL</td>\n",
       "      <td>4.0</td>\n",
       "      <td>1.0</td>\n",
       "      <td>...</td>\n",
       "      <td>37</td>\n",
       "      <td>1</td>\n",
       "      <td>14</td>\n",
       "      <td>2742</td>\n",
       "      <td>14</td>\n",
       "      <td>0</td>\n",
       "      <td>2008</td>\n",
       "      <td>1</td>\n",
       "      <td>0</td>\n",
       "      <td>0</td>\n",
       "    </tr>\n",
       "    <tr>\n",
       "      <th>4</th>\n",
       "      <td>20080907</td>\n",
       "      <td>CHI</td>\n",
       "      <td>IND</td>\n",
       "      <td>1</td>\n",
       "      <td>50</td>\n",
       "      <td>56</td>\n",
       "      <td>13</td>\n",
       "      <td>CHI</td>\n",
       "      <td>4.0</td>\n",
       "      <td>21.0</td>\n",
       "      <td>...</td>\n",
       "      <td>39</td>\n",
       "      <td>1</td>\n",
       "      <td>0</td>\n",
       "      <td>3056</td>\n",
       "      <td>0</td>\n",
       "      <td>0</td>\n",
       "      <td>2008</td>\n",
       "      <td>1</td>\n",
       "      <td>0</td>\n",
       "      <td>0</td>\n",
       "    </tr>\n",
       "    <tr>\n",
       "      <th>...</th>\n",
       "      <td>...</td>\n",
       "      <td>...</td>\n",
       "      <td>...</td>\n",
       "      <td>...</td>\n",
       "      <td>...</td>\n",
       "      <td>...</td>\n",
       "      <td>...</td>\n",
       "      <td>...</td>\n",
       "      <td>...</td>\n",
       "      <td>...</td>\n",
       "      <td>...</td>\n",
       "      <td>...</td>\n",
       "      <td>...</td>\n",
       "      <td>...</td>\n",
       "      <td>...</td>\n",
       "      <td>...</td>\n",
       "      <td>...</td>\n",
       "      <td>...</td>\n",
       "      <td>...</td>\n",
       "      <td>...</td>\n",
       "      <td>...</td>\n",
       "    </tr>\n",
       "    <tr>\n",
       "      <th>1034</th>\n",
       "      <td>20081102</td>\n",
       "      <td>GB</td>\n",
       "      <td>TEN</td>\n",
       "      <td>5</td>\n",
       "      <td>-6</td>\n",
       "      <td>41</td>\n",
       "      <td>30</td>\n",
       "      <td>GB</td>\n",
       "      <td>3.0</td>\n",
       "      <td>2.0</td>\n",
       "      <td>...</td>\n",
       "      <td>41</td>\n",
       "      <td>1</td>\n",
       "      <td>0</td>\n",
       "      <td>-319</td>\n",
       "      <td>16</td>\n",
       "      <td>16</td>\n",
       "      <td>2008</td>\n",
       "      <td>1</td>\n",
       "      <td>0</td>\n",
       "      <td>0</td>\n",
       "    </tr>\n",
       "    <tr>\n",
       "      <th>1035</th>\n",
       "      <td>20081211</td>\n",
       "      <td>NO</td>\n",
       "      <td>CHI</td>\n",
       "      <td>5</td>\n",
       "      <td>-3</td>\n",
       "      <td>19</td>\n",
       "      <td>5</td>\n",
       "      <td>NO</td>\n",
       "      <td>2.0</td>\n",
       "      <td>13.0</td>\n",
       "      <td>...</td>\n",
       "      <td>35</td>\n",
       "      <td>1</td>\n",
       "      <td>0</td>\n",
       "      <td>-161</td>\n",
       "      <td>24</td>\n",
       "      <td>24</td>\n",
       "      <td>2008</td>\n",
       "      <td>1</td>\n",
       "      <td>0</td>\n",
       "      <td>0</td>\n",
       "    </tr>\n",
       "    <tr>\n",
       "      <th>1036</th>\n",
       "      <td>20081222</td>\n",
       "      <td>GB</td>\n",
       "      <td>CHI</td>\n",
       "      <td>5</td>\n",
       "      <td>-4</td>\n",
       "      <td>33</td>\n",
       "      <td>5</td>\n",
       "      <td>GB</td>\n",
       "      <td>3.0</td>\n",
       "      <td>10.0</td>\n",
       "      <td>...</td>\n",
       "      <td>38</td>\n",
       "      <td>1</td>\n",
       "      <td>0</td>\n",
       "      <td>-207</td>\n",
       "      <td>17</td>\n",
       "      <td>17</td>\n",
       "      <td>2008</td>\n",
       "      <td>1</td>\n",
       "      <td>0</td>\n",
       "      <td>0</td>\n",
       "    </tr>\n",
       "    <tr>\n",
       "      <th>1037</th>\n",
       "      <td>20081116</td>\n",
       "      <td>PHI</td>\n",
       "      <td>CIN</td>\n",
       "      <td>5</td>\n",
       "      <td>-15</td>\n",
       "      <td>13</td>\n",
       "      <td>6</td>\n",
       "      <td>PHI</td>\n",
       "      <td>4.0</td>\n",
       "      <td>5.0</td>\n",
       "      <td>...</td>\n",
       "      <td>47</td>\n",
       "      <td>1</td>\n",
       "      <td>0</td>\n",
       "      <td>-887</td>\n",
       "      <td>13</td>\n",
       "      <td>13</td>\n",
       "      <td>2008</td>\n",
       "      <td>0</td>\n",
       "      <td>1</td>\n",
       "      <td>0</td>\n",
       "    </tr>\n",
       "    <tr>\n",
       "      <th>1038</th>\n",
       "      <td>20081019</td>\n",
       "      <td>NYJ</td>\n",
       "      <td>OAK</td>\n",
       "      <td>5</td>\n",
       "      <td>-13</td>\n",
       "      <td>35</td>\n",
       "      <td>22</td>\n",
       "      <td>NYJ</td>\n",
       "      <td>4.0</td>\n",
       "      <td>11.0</td>\n",
       "      <td>...</td>\n",
       "      <td>57</td>\n",
       "      <td>1</td>\n",
       "      <td>0</td>\n",
       "      <td>-745</td>\n",
       "      <td>13</td>\n",
       "      <td>13</td>\n",
       "      <td>2008</td>\n",
       "      <td>1</td>\n",
       "      <td>0</td>\n",
       "      <td>0</td>\n",
       "    </tr>\n",
       "  </tbody>\n",
       "</table>\n",
       "<p>1039 rows × 23 columns</p>\n",
       "</div>"
      ],
      "text/plain": [
       "      GameDate AwayTeam HomeTeam  qtr  min  sec  kickteam  def  down  togo  \\\n",
       "0     20081130      IND      CLE    1   47    2        13  CLE   4.0  11.0   \n",
       "1     20081005      IND      HOU    1   54   47        13  HOU   4.0   3.0   \n",
       "2     20081228      TEN      IND    1   45   20        13  TEN   4.0   3.0   \n",
       "3     20081012      BAL      IND    1   45   42        13  BAL   4.0   1.0   \n",
       "4     20080907      CHI      IND    1   50   56        13  CHI   4.0  21.0   \n",
       "...        ...      ...      ...  ...  ...  ...       ...  ...   ...   ...   \n",
       "1034  20081102       GB      TEN    5   -6   41        30   GB   3.0   2.0   \n",
       "1035  20081211       NO      CHI    5   -3   19         5   NO   2.0  13.0   \n",
       "1036  20081222       GB      CHI    5   -4   33         5   GB   3.0  10.0   \n",
       "1037  20081116      PHI      CIN    5  -15   13         6  PHI   4.0   5.0   \n",
       "1038  20081019      NYJ      OAK    5  -13   35        22  NYJ   4.0  11.0   \n",
       "\n",
       "      ...  distance  homekick kickdiff  timerem  offscore  defscore  season  \\\n",
       "0     ...        30         0       -3     2822         0         3    2008   \n",
       "1     ...        46         0        0     3287         0         0    2008   \n",
       "2     ...        28         1        7     2720         7         0    2008   \n",
       "3     ...        37         1       14     2742        14         0    2008   \n",
       "4     ...        39         1        0     3056         0         0    2008   \n",
       "...   ...       ...       ...      ...      ...       ...       ...     ...   \n",
       "1034  ...        41         1        0     -319        16        16    2008   \n",
       "1035  ...        35         1        0     -161        24        24    2008   \n",
       "1036  ...        38         1        0     -207        17        17    2008   \n",
       "1037  ...        47         1        0     -887        13        13    2008   \n",
       "1038  ...        57         1        0     -745        13        13    2008   \n",
       "\n",
       "      GOOD  Missed  Blocked  \n",
       "0        1       0        0  \n",
       "1        1       0        0  \n",
       "2        1       0        0  \n",
       "3        1       0        0  \n",
       "4        1       0        0  \n",
       "...    ...     ...      ...  \n",
       "1034     1       0        0  \n",
       "1035     1       0        0  \n",
       "1036     1       0        0  \n",
       "1037     0       1        0  \n",
       "1038     1       0        0  \n",
       "\n",
       "[1039 rows x 23 columns]"
      ]
     },
     "execution_count": 8,
     "metadata": {},
     "output_type": "execute_result"
    }
   ],
   "source": [
    "data"
   ]
  },
  {
   "cell_type": "code",
   "execution_count": 9,
   "metadata": {},
   "outputs": [],
   "source": [
    "X= data[['togo','kickteam', 'ydline']]\n",
    "Y= data['qtr']"
   ]
  },
  {
   "cell_type": "code",
   "execution_count": 10,
   "metadata": {},
   "outputs": [
    {
     "data": {
      "text/plain": [
       "(      togo  kickteam  ydline\n",
       " 0     11.0        13      12\n",
       " 1      3.0        13      28\n",
       " 2      3.0        13      10\n",
       " 3      1.0        13      19\n",
       " 4     21.0        13      21\n",
       " ...    ...       ...     ...\n",
       " 1034   2.0        30      23\n",
       " 1035  13.0         5      18\n",
       " 1036  10.0         5      20\n",
       " 1037   5.0         6      29\n",
       " 1038  11.0        22      39\n",
       " \n",
       " [1039 rows x 3 columns],\n",
       " 0       1\n",
       " 1       1\n",
       " 2       1\n",
       " 3       1\n",
       " 4       1\n",
       "        ..\n",
       " 1034    5\n",
       " 1035    5\n",
       " 1036    5\n",
       " 1037    5\n",
       " 1038    5\n",
       " Name: qtr, Length: 1039, dtype: int64)"
      ]
     },
     "execution_count": 10,
     "metadata": {},
     "output_type": "execute_result"
    }
   ],
   "source": [
    "X,Y.dropna()"
   ]
  },
  {
   "cell_type": "code",
   "execution_count": 11,
   "metadata": {},
   "outputs": [
    {
     "name": "stdout",
     "output_type": "stream",
     "text": [
      "<class 'pandas.core.frame.DataFrame'>\n",
      "RangeIndex: 1039 entries, 0 to 1038\n",
      "Data columns (total 3 columns):\n",
      " #   Column    Non-Null Count  Dtype  \n",
      "---  ------    --------------  -----  \n",
      " 0   togo      1039 non-null   float64\n",
      " 1   kickteam  1039 non-null   int32  \n",
      " 2   ydline    1039 non-null   int64  \n",
      "dtypes: float64(1), int32(1), int64(1)\n",
      "memory usage: 20.4 KB\n"
     ]
    }
   ],
   "source": [
    "X.info()"
   ]
  },
  {
   "cell_type": "code",
   "execution_count": 12,
   "metadata": {},
   "outputs": [
    {
     "data": {
      "text/plain": [
       "<bound method Series.count of togo        0\n",
       "kickteam    0\n",
       "ydline      0\n",
       "dtype: int64>"
      ]
     },
     "execution_count": 12,
     "metadata": {},
     "output_type": "execute_result"
    }
   ],
   "source": [
    "X.isnull().sum().count"
   ]
  },
  {
   "cell_type": "code",
   "execution_count": 13,
   "metadata": {},
   "outputs": [
    {
     "data": {
      "text/plain": [
       "<bound method Series.count of togo        0\n",
       "kickteam    0\n",
       "ydline      0\n",
       "dtype: int64>"
      ]
     },
     "execution_count": 13,
     "metadata": {},
     "output_type": "execute_result"
    }
   ],
   "source": [
    "X.isna().sum().count"
   ]
  },
  {
   "cell_type": "code",
   "execution_count": 49,
   "metadata": {},
   "outputs": [
    {
     "name": "stdout",
     "output_type": "stream",
     "text": [
      "X-Train Shape:  (831, 3) \n",
      "Y-Train Shape(Dependent): (831,)\n",
      "X-Test Shape:  (208, 3) \n",
      "Y-Test Shape(Dependent): (208,)\n"
     ]
    }
   ],
   "source": [
    "from sklearn.model_selection import train_test_split\n",
    "\n",
    "X_train, X_test, Y_train, Y_test = train_test_split(X, Y, test_size=0.2, random_state=0)\n",
    "print(\"X-Train Shape: \", X_train.shape,'\\n' \"Y-Train Shape(Dependent):\", Y_train.shape)\n",
    "print(\"X-Test Shape: \", X_test.shape,'\\n' \"Y-Test Shape(Dependent):\", Y_test.shape)"
   ]
  },
  {
   "cell_type": "code",
   "execution_count": 50,
   "metadata": {},
   "outputs": [],
   "source": [
    "from sklearn.preprocessing import StandardScaler\n",
    "\n",
    "sc = StandardScaler()\n",
    "X_train = sc.fit_transform(X_train)\n",
    "X_test = sc.transform(X_test)\n"
   ]
  },
  {
   "cell_type": "code",
   "execution_count": 51,
   "metadata": {},
   "outputs": [],
   "source": [
    "from sklearn.discriminant_analysis import LinearDiscriminantAnalysis as LDA\n",
    "\n",
    "lda = LDA(n_components=-1)\n",
    "X_train = lda.fit_transform(X_train, Y_train)\n",
    "X_test = lda.transform(X_test)"
   ]
  },
  {
   "cell_type": "code",
   "execution_count": 54,
   "metadata": {},
   "outputs": [
    {
     "data": {
      "text/plain": [
       "array([0.61610439, 0.29500897])"
      ]
     },
     "execution_count": 54,
     "metadata": {},
     "output_type": "execute_result"
    }
   ],
   "source": [
    "a=lda.explained_variance_ratio_\n",
    "a"
   ]
  },
  {
   "cell_type": "code",
   "execution_count": 62,
   "metadata": {},
   "outputs": [
    {
     "data": {
      "image/png": "[encoded data removed]",
      "text/plain": [
       "<Figure size 432x288 with 1 Axes>"
      ]
     },
     "metadata": {
      "needs_background": "light"
     },
     "output_type": "display_data"
    }
   ],
   "source": [
    "plt.plot(np.cumsum(a))\n",
    "plt.xlabel('number of components')\n",
    "plt.ylabel('cumulative explained variance');"
   ]
  },
  {
   "cell_type": "code",
   "execution_count": 53,
   "metadata": {},
   "outputs": [
    {
     "data": {
      "text/plain": [
       "<matplotlib.collections.PathCollection at 0x27eded2ccc8>"
      ]
     },
     "execution_count": 53,
     "metadata": {},
     "output_type": "execute_result"
    },
    {
     "data": {
      "image/png": "[encoded data removed]",
      "text/plain": [
       "<Figure size 432x288 with 1 Axes>"
      ]
     },
     "metadata": {
      "needs_background": "light"
     },
     "output_type": "display_data"
    }
   ],
   "source": [
    "plt.xlabel('LD1')\n",
    "plt.ylabel('LD2')\n",
    "plt.scatter(\n",
    "    X_train[:,0],\n",
    "    X_train[:,1],\n",
    "    #c=X,\n",
    "    cmap='rainbow',\n",
    "    alpha=0.7,\n",
    "    edgecolors='b'\n",
    ")"
   ]
  },
  {
   "cell_type": "markdown",
   "metadata": {},
   "source": [
    "# PCA "
   ]
  },
  {
   "cell_type": "code",
   "execution_count": null,
   "metadata": {},
   "outputs": [],
   "source": [
    "# 3.b) Apply PCA and identify the important principal components involving at least 90% of dataset variation. \n",
    "#      Explain your decision strategy?  Plot principal "
   ]
  },
  {
   "cell_type": "code",
   "execution_count": null,
   "metadata": {},
   "outputs": [],
   "source": [
    "# https://jakevdp.github.io/PythonDataScienceHandbook/05.09-principal-component-analysis.html"
   ]
  },
  {
   "cell_type": "code",
   "execution_count": null,
   "metadata": {},
   "outputs": [],
   "source": [
    "# https://www.machinelearningplus.com/machine-learning/principal-components-analysis-pca-better-explained/"
   ]
  },
  {
   "cell_type": "code",
   "execution_count": null,
   "metadata": {},
   "outputs": [],
   "source": [
    "# https://colab.research.google.com/github/jakevdp/PythonDataScienceHandbook/blob/master/notebooks/Index.ipynb"
   ]
  },
  {
   "cell_type": "code",
   "execution_count": 21,
   "metadata": {},
   "outputs": [],
   "source": [
    "from sklearn.decomposition import PCA"
   ]
  },
  {
   "cell_type": "code",
   "execution_count": 28,
   "metadata": {},
   "outputs": [
    {
     "name": "stdout",
     "output_type": "stream",
     "text": [
      "      togo  kickteam  ydline\n",
      "0     11.0        13      12\n",
      "1      3.0        13      28\n",
      "2      3.0        13      10\n",
      "3      1.0        13      19\n",
      "4     21.0        13      21\n",
      "...    ...       ...     ...\n",
      "1034   2.0        30      23\n",
      "1035  13.0         5      18\n",
      "1036  10.0         5      20\n",
      "1037   5.0         6      29\n",
      "1038  11.0        22      39\n",
      "\n",
      "[1039 rows x 3 columns]\n",
      "(1039, 3)\n",
      "(1039, 2)\n"
     ]
    },
    {
     "data": {
      "image/png": "[encoded data removed]",
      "text/plain": [
       "<Figure size 432x288 with 1 Axes>"
      ]
     },
     "metadata": {
      "needs_background": "light"
     },
     "output_type": "display_data"
    },
    {
     "name": "stdout",
     "output_type": "stream",
     "text": [
      "ratio [0.50038564 0.42502238]\n"
     ]
    }
   ],
   "source": [
    "import matplotlib.pyplot as plt\n",
    "from mpl_toolkits import mplot3d\n",
    "\n",
    "print(X)\n",
    "print(X.shape)\n",
    "\n",
    "pca = PCA(n_components=2)\n",
    "X2d  = pca.fit_transform(X)\n",
    "\n",
    "plt.show()\n",
    "\n",
    "print(X2d.shape)\n",
    "\n",
    "fig = plt.figure()\n",
    "\n",
    "ax.set_axis_off()\n",
    "for x in X2d:\n",
    "    plt.plot(x[0], x[1],'o')\n",
    "plt.show()\n",
    "\n",
    "print(\"ratio\", pca.explained_variance_ratio_)"
   ]
  },
  {
   "cell_type": "code",
   "execution_count": 69,
   "metadata": {},
   "outputs": [
    {
     "data": {
      "image/png": "[encoded data removed]",
      "text/plain": [
       "<Figure size 1296x576 with 1 Axes>"
      ]
     },
     "metadata": {
      "needs_background": "light"
     },
     "output_type": "display_data"
    }
   ],
   "source": [
    "def plot_pc(pca):\n",
    "    '''\n",
    "    Creates a scree plot associated with the principal components \n",
    "    \n",
    "    INPUT: pca - the result of instantian of PCA in scikit learn\n",
    "            \n",
    "    OUTPUT: \n",
    "    '''\n",
    "    num_components=len(pca.explained_variance_ratio_)\n",
    "    ind = np.arange(num_components)\n",
    "    vals = pca.explained_variance_ratio_\n",
    " \n",
    "    plt.figure(figsize=(18, 8))\n",
    "    ax = plt.subplot(111)\n",
    "    cumvals = np.cumsum(vals)\n",
    "    ax.bar(ind, vals)\n",
    "    ax.plot(ind, cumvals)\n",
    "    for i in range(num_components):\n",
    "        ax.annotate(r\"%s%%\" % ((str(vals[i]*100)[:4])), (ind[i]+0.2, vals[i]), va=\"bottom\", ha=\"center\", fontsize=12)\n",
    " \n",
    "    ax.xaxis.set_tick_params(width=0)\n",
    "    ax.yaxis.set_tick_params(width=2, length=12)\n",
    " \n",
    "    ax.set_xlabel(\"Principal Component\")\n",
    "    ax.set_ylabel(\"Variance Explained (%)\")\n",
    "    plt.title('Explained Variance Per Principal Component')\n",
    "    \n",
    "\n",
    "plot_pc(pca)"
   ]
  },
  {
   "cell_type": "code",
   "execution_count": 63,
   "metadata": {},
   "outputs": [
    {
     "name": "stdout",
     "output_type": "stream",
     "text": [
      "The minimum dimension to preserve 90 % Variance is :  2\n"
     ]
    }
   ],
   "source": [
    "pca.fit(X)\n",
    "cumsum = np.cumsum(pca.explained_variance_ratio_)\n",
    "#find min dimensionality to preserve 90% variance\n",
    "d = np.argmax(cumsum >= .90) + 1\n",
    "print(\"The minimum dimension to preserve 90 % Variance is : \", d)\n",
    "plt.show()"
   ]
  },
  {
   "cell_type": "code",
   "execution_count": 57,
   "metadata": {},
   "outputs": [
    {
     "data": {
      "image/png": "[encoded data removed]",
      "text/plain": [
       "<Figure size 432x288 with 1 Axes>"
      ]
     },
     "metadata": {
      "needs_background": "light"
     },
     "output_type": "display_data"
    }
   ],
   "source": [
    "plt.plot(np.cumsum(cumsum))\n",
    "plt.xlabel('number of components')\n",
    "plt.ylabel('cumulative explained variance');"
   ]
  },
  {
   "cell_type": "code",
   "execution_count": null,
   "metadata": {},
   "outputs": [],
   "source": []
  }
 ],
 "metadata": {
  "kernelspec": {
   "display_name": "Python 3",
   "language": "python",
   "name": "python3"
  },
  "language_info": {
   "codemirror_mode": {
    "name": "ipython",
    "version": 3
   },
   "file_extension": ".py",
   "mimetype": "text/x-python",
   "name": "python",
   "nbconvert_exporter": "python",
   "pygments_lexer": "ipython3",
   "version": "3.7.9"
  }
 },
 "nbformat": 4,
 "nbformat_minor": 4
}
